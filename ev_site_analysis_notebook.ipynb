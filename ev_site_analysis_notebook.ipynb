{
  "cells": [
    {
      "cell_type": "code",
      "execution_count": 1,
      "metadata": {},
      "outputs": [
        {
          "name": "stderr",
          "output_type": "stream",
          "text": [
            "/Users/sampackman/Library/Python/3.9/lib/python/site-packages/urllib3/__init__.py:35: NotOpenSSLWarning: urllib3 v2 only supports OpenSSL 1.1.1+, currently the 'ssl' module is compiled with 'LibreSSL 2.8.3'. See: https://github.com/urllib3/urllib3/issues/3020\n",
            "  warnings.warn(\n",
            "/Users/sampackman/Documents/ev_charging_analysis/site_data_utils/locational_data/get_data.py:5: DtypeWarning: Columns (18,26,70,72,85,131) have mixed types. Specify dtype option on import or set low_memory=False.\n",
            "  j40_data = read_csv('site_data_utils/locational_data/Justice40/j40_data.csv')\n"
          ]
        },
        {
          "name": "stdout",
          "output_type": "stream",
          "text": [
            "Site Data found for 550/550 locations\n"
          ]
        }
      ],
      "source": [
        "from site_data_utils.site_analysis import get_info\n",
        "\n",
        "import osmnx as ox\n",
        "\n",
        "location = (39.3158421, -102.8736196)\n",
        "\n",
        "from pygris.geocode import geocode\n",
        "from Existing_Site_Data.geocode_sites import loc_data\n"
      ]
    },
    {
      "cell_type": "code",
      "execution_count": 2,
      "metadata": {},
      "outputs": [],
      "source": [
        "address =  '17507 CO-59, Seibert, CO'\n",
        "\n",
        "# ox.geocoder.geocode(address)"
      ]
    },
    {
      "cell_type": "code",
      "execution_count": 3,
      "metadata": {},
      "outputs": [
        {
          "data": {
            "text/html": [
              "<div>\n",
              "<style scoped>\n",
              "    .dataframe tbody tr th:only-of-type {\n",
              "        vertical-align: middle;\n",
              "    }\n",
              "\n",
              "    .dataframe tbody tr th {\n",
              "        vertical-align: top;\n",
              "    }\n",
              "\n",
              "    .dataframe thead th {\n",
              "        text-align: right;\n",
              "    }\n",
              "</style>\n",
              "<table border=\"1\" class=\"dataframe\">\n",
              "  <thead>\n",
              "    <tr style=\"text-align: right;\">\n",
              "      <th></th>\n",
              "      <th>longitude</th>\n",
              "      <th>latitude</th>\n",
              "      <th>GEOID</th>\n",
              "      <th>address</th>\n",
              "    </tr>\n",
              "  </thead>\n",
              "  <tbody>\n",
              "    <tr>\n",
              "      <th>0</th>\n",
              "      <td>-102.874267</td>\n",
              "      <td>39.29131</td>\n",
              "      <td>080639624003156</td>\n",
              "      <td>17507 CO-59, Seibert, CO</td>\n",
              "    </tr>\n",
              "  </tbody>\n",
              "</table>\n",
              "</div>"
            ],
            "text/plain": [
              "    longitude  latitude            GEOID                   address\n",
              "0 -102.874267  39.29131  080639624003156  17507 CO-59, Seibert, CO"
            ]
          },
          "execution_count": 3,
          "metadata": {},
          "output_type": "execute_result"
        }
      ],
      "source": [
        "from pygris.geocode import geocode as gr_geocode\n",
        "from osmnx.geocoder import geocode as ox_geocode\n",
        "ox_geocode(address)\n"
      ]
    },
    {
      "cell_type": "code",
      "execution_count": 5,
      "metadata": {},
      "outputs": [
        {
          "name": "stderr",
          "output_type": "stream",
          "text": [
            "/var/folders/gq/3wmh4pnj2rl1rnld2znxz3cc0000gn/T/ipykernel_85219/2883155737.py:2: FutureWarning: Calling float on a single element Series is deprecated and will raise a TypeError in the future. Use float(ser.iloc[0]) instead\n",
            "  isnan(loc_data[loc_data.Address == '1871 Shawano Ave, Green Bay, WI 54303-2633'].Latitude)\n"
          ]
        },
        {
          "data": {
            "text/plain": [
              "True"
            ]
          },
          "execution_count": 5,
          "metadata": {},
          "output_type": "execute_result"
        }
      ],
      "source": [
        "from math import isnan\n",
        "isnan(loc_data[loc_data.Address == '1871 Shawano Ave, Green Bay, WI 54303-2633'].Latitude)"
      ]
    },
    {
      "cell_type": "code",
      "execution_count": 6,
      "metadata": {},
      "outputs": [],
      "source": [
        "# G = ox.graph_from_point(center_point = location, dist = 500, network_type= 'walk')\n"
      ]
    },
    {
      "cell_type": "code",
      "execution_count": 10,
      "metadata": {},
      "outputs": [
        {
          "name": "stderr",
          "output_type": "stream",
          "text": [
            "/Users/sampackman/Library/Python/3.9/lib/python/site-packages/shapely/geometry/polygon.py:91: FutureWarning: Calling float on a single element Series is deprecated and will raise a TypeError in the future. Use float(ser.iloc[0]) instead\n",
            "  return [float(c) for c in o]\n",
            "/Users/sampackman/Library/Python/3.9/lib/python/site-packages/shapely/geometry/polygon.py:91: FutureWarning: Calling float on a single element Series is deprecated and will raise a TypeError in the future. Use float(ser.iloc[0]) instead\n",
            "  return [float(c) for c in o]\n",
            "/Users/sampackman/Library/Python/3.9/lib/python/site-packages/shapely/geometry/polygon.py:91: FutureWarning: Calling float on a single element Series is deprecated and will raise a TypeError in the future. Use float(ser.iloc[0]) instead\n",
            "  return [float(c) for c in o]\n",
            "/Users/sampackman/Library/Python/3.9/lib/python/site-packages/shapely/geometry/polygon.py:91: FutureWarning: Calling float on a single element Series is deprecated and will raise a TypeError in the future. Use float(ser.iloc[0]) instead\n",
            "  return [float(c) for c in o]\n",
            "/Users/sampackman/Library/Python/3.9/lib/python/site-packages/shapely/geometry/polygon.py:91: FutureWarning: Calling float on a single element Series is deprecated and will raise a TypeError in the future. Use float(ser.iloc[0]) instead\n",
            "  return [float(c) for c in o]\n",
            "/Users/sampackman/Library/Python/3.9/lib/python/site-packages/shapely/geometry/polygon.py:91: FutureWarning: Calling float on a single element Series is deprecated and will raise a TypeError in the future. Use float(ser.iloc[0]) instead\n",
            "  return [float(c) for c in o]\n"
          ]
        },
        {
          "name": "stdout",
          "output_type": "stream",
          "text": [
            "Income of surrounding areas                      47386.0\n",
            "Estimated cost of transportation                 11811.0\n",
            "Cost burden for transportation                  0.225332\n",
            "Proportion of households without vehicles            2.8\n",
            "Walk times to…Adult Education                2219.284222\n",
            "                                                ...     \n",
            "subway stations                                        0\n",
            "Number of Stations                                     0\n",
            "ev_dc_fast_num                                         0\n",
            "ev_level1_evse_num                                     0\n",
            "ev_level2_evse_num                                     0\n",
            "Length: 183, dtype: object\n"
          ]
        }
      ],
      "source": [
        "# location = (gr_geocode(address).latitude,  gr_geocode(address).longitude)\n",
        "print(get_info(address, output = \"DataFrame\", debug = True))\n",
        "\n"
      ]
    },
    {
      "cell_type": "code",
      "execution_count": null,
      "metadata": {},
      "outputs": [],
      "source": [
        "import pandas as pd\n",
        "\n",
        "d  = pd.DataFrame({\n",
        "    'a': [1,2,3], 'b': [4,5,6]\n",
        "})"
      ]
    },
    {
      "cell_type": "code",
      "execution_count": null,
      "metadata": {},
      "outputs": [
        {
          "name": "stdout",
          "output_type": "stream",
          "text": [
            "a\n",
            "b\n"
          ]
        }
      ],
      "source": [
        "for i in d:\n",
        "    print(i)"
      ]
    }
  ],
  "metadata": {
    "colab": {
      "provenance": []
    },
    "kernelspec": {
      "display_name": "Python 3",
      "name": "python3"
    },
    "language_info": {
      "codemirror_mode": {
        "name": "ipython",
        "version": 3
      },
      "file_extension": ".py",
      "mimetype": "text/x-python",
      "name": "python",
      "nbconvert_exporter": "python",
      "pygments_lexer": "ipython3",
      "version": "3.9.6"
    }
  },
  "nbformat": 4,
  "nbformat_minor": 0
}
