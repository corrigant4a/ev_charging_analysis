{
  "cells": [
    {
      "cell_type": "code",
      "execution_count": 2,
      "metadata": {},
      "outputs": [
        {
          "name": "stderr",
          "output_type": "stream",
          "text": [
            "/Users/sampackman/Library/Python/3.9/lib/python/site-packages/urllib3/__init__.py:35: NotOpenSSLWarning: urllib3 v2 only supports OpenSSL 1.1.1+, currently the 'ssl' module is compiled with 'LibreSSL 2.8.3'. See: https://github.com/urllib3/urllib3/issues/3020\n",
            "  warnings.warn(\n"
          ]
        },
        {
          "name": "stdout",
          "output_type": "stream",
          "text": [
            "2\n"
          ]
        }
      ],
      "source": [
        "import osmnx as ox\n",
        "import numpy as np\n",
        "ox.settings.log_console = True\n",
        "\n",
        "location = (38.87024429682285, -77.0893816941751)  #\n",
        "\n",
        "\n",
        "tags = {'amenity': ['restaurant', 'pub', 'bar', 'biergarten', 'cafe', 'fast_food', 'food_court', 'ice_cream', 'library', 'atm', 'bank', 'money_transfer', 'payment_center', 'bureau_de_change', 'payment terminal', 'pharmacy', 'arts_centre', 'cinema', 'community_centre', 'planetarium'],\n",
        "        'building': ['retail', 'supermarket', 'museum', 'sports_centre', 'sports_hall', 'riding_hall', 'pavilion', 'stadium', ],\n",
        "        'tourism': ['artwork', 'attraction', 'gallery', 'information', 'museum', 'picnic_site', 'viewpoint', 'zoo', ]}\n",
        "\n",
        "try:\n",
        "        gdf = ox.features.features_from_point(location, dist=500, tags=tags)\n",
        "        num_amenities = len(gdf)\n",
        "except:\n",
        "        print('No Amenities Found')\n",
        "        num_amenities = 0\n",
        "\n",
        "\n",
        "print(num_amenities)"
      ]
    },
    {
      "cell_type": "code",
      "execution_count": 3,
      "metadata": {},
      "outputs": [],
      "source": [
        "def calculate_dist_between_two_points(G, loc_1, loc_2):\n",
        "    '''Function is based on:\n",
        "    https://github.com/gboeing/osmnx-examples/blob/main/notebooks/02-routing-speed-time.ipynb\n",
        "    OSMnx is released under the MIT license by Geoff Boeing.\n",
        "    This function is released under the MIT license by Kenneth Burchfiel.\n",
        "    \n",
        "    G is a networkx.classes.multidigraph.MultiDiGraph object \n",
        "    (e.g. one created by ox.graph_from_place()).\n",
        "    loc_1 and loc_2 refer to tuples containing \n",
        "    latitude and longitude values in decimal degree form.\n",
        "    Note that, if the distance between loc_1 and loc_2 is shorter than\n",
        "    the sum of (1) the distance between each location and the node closest to it\n",
        "    and (2) the sum of the distance between those two nodes,\n",
        "    this function may report an inaccurately high distance.'''\n",
        "    node_1, loc_1_dist_to_node_1 = ox.distance.nearest_nodes(G, X = loc_1[1], \n",
        "    Y = loc_1[0], return_dist=True)\n",
        "\n",
        "    node_2, loc_2_dist_to_node_2 = ox.distance.nearest_nodes(G, X = loc_2[1], \n",
        "    Y = loc_2[0], return_dist = True)\n",
        "\n",
        "    route = ox.shortest_path(G, node_1, node_2, weight = 'length') # Route is a list of nodes.\n",
        "    # route\n",
        "    edge_lengths = ox.utils_graph.get_route_edge_attributes(G, route, \"length\")\n",
        "    route_in_meters = (sum(\n",
        "        edge_lengths)+loc_1_dist_to_node_1+loc_2_dist_to_node_2) \n",
        "    return route_in_meters"
      ]
    },
    {
      "cell_type": "code",
      "execution_count": 4,
      "metadata": {},
      "outputs": [
        {
          "data": {
            "text/plain": [
              "<networkx.classes.multidigraph.MultiDiGraph at 0x10c90ed00>"
            ]
          },
          "execution_count": 4,
          "metadata": {},
          "output_type": "execute_result"
        }
      ],
      "source": [
        "\n",
        "G = ox.graph_from_point(center_point = location, dist = 500)\n",
        "\n",
        "G"
      ]
    },
    {
      "cell_type": "code",
      "execution_count": 5,
      "metadata": {},
      "outputs": [
        {
          "name": "stdout",
          "output_type": "stream",
          "text": [
            "42.30770448075845\n"
          ]
        }
      ],
      "source": [
        "# type(gdf.iloc[0])\n",
        "node1, loc_1_dist_to_node_1 = ox.distance.nearest_nodes(G, X = location[1], Y = location[0], return_dist = True)\n",
        "\n",
        "print(loc_1_dist_to_node_1)\n"
      ]
    },
    {
      "cell_type": "code",
      "execution_count": 6,
      "metadata": {},
      "outputs": [
        {
          "name": "stdout",
          "output_type": "stream",
          "text": [
            "2\n"
          ]
        }
      ],
      "source": [
        "# gdf.iloc[0].name[1] in G.nodes\n",
        "\n",
        "# # print(gdf.iloc[0].name[1])\n",
        "print(len(list(gdf.iloc)))\n"
      ]
    },
    {
      "cell_type": "code",
      "execution_count": 7,
      "metadata": {},
      "outputs": [],
      "source": [
        "# for i in range(len(list(gdf.iloc))):\n",
        "\n",
        "\n",
        "#     print(calculate_dist_between_two_points(G, location, (gdf.iloc[0]['geometry'].y, gdf.iloc[i]['geometry'].x)))"
      ]
    },
    {
      "cell_type": "code",
      "execution_count": 8,
      "metadata": {},
      "outputs": [],
      "source": [
        "# def find_maxspeed(lat,long):\n",
        "#     r = requests.get(f\"https://api.openstreetmap.org/api/0.6/way/{25216594}\")\n",
        "#     if 'tag k=\"maxspeed\" v=' in r.text:\n",
        "#         i = r.text.index('tag k=\"maxspeed\" v=')\n",
        "\n",
        "#         print(r.text[i + len('tag k=\"maxspeed\" v=') + 1: i + len('tag k=\"maxspeed\" v=') + 3])\n",
        "#     print(r.text)\n",
        "# find_maxspeed(40.41956729658272, -77.18729864272586) "
      ]
    },
    {
      "cell_type": "code",
      "execution_count": 9,
      "metadata": {
        "id": "A0DpM_xHrjZy"
      },
      "outputs": [],
      "source": [
        "import osmnx as ox\n",
        "import networkx as nx\n",
        "import geopandas as gpd\n",
        "import pandas as pd\n",
        "from shapely.geometry import Point\n",
        "# from google.colab import data_table\n",
        "# data_table.enable_dataframe_formatter()\n"
      ]
    },
    {
      "cell_type": "code",
      "execution_count": 10,
      "metadata": {
        "id": "fuU05NWnrnPW"
      },
      "outputs": [],
      "source": [
        "##### Does nothing relevant for now but could use for drawing out walking path distances ######\n",
        "# Get the street network graph around the center point\n",
        "# G = ox.graph_from_point(center_point, dist=walking_distance, network_type='walk')\n",
        "\n",
        "# # Get the nodes and edges of the graph\n",
        "# nodes, edges = ox.graph_to_gdfs(G)"
      ]
    },
    {
      "cell_type": "code",
      "execution_count": 11,
      "metadata": {
        "id": "aSzAcFe0y2w4"
      },
      "outputs": [],
      "source": [
        "# Define the center point and the walking distance\n",
        "center_point = (38.924164092261236, -77.0527460953579)  # Latitude, Longitude of the center point\n",
        "walking_distance = 500  # Distance in meters"
      ]
    },
    {
      "cell_type": "markdown",
      "metadata": {},
      "source": [
        "\n",
        "PM2.5 in the air (percentile)\n",
        "PM2.5 in the air\n",
        "\n",
        "Diesel particulate matter exposure (percentile)\n",
        "Diesel particulate matter exposure\n",
        "\n",
        "Traffic proximity and volume (percentile)\n",
        "Traffic proximity and volume\n",
        "\n",
        "DOT Travel Barriers Score (percentile)\n",
        "Greater than or equal to the 90th percentile for housing burden and is low income?\n",
        "\n",
        "Tract experienced historic underinvestment and remains low income\n",
        "Tract experienced historic underinvestment\n",
        "    \n"
      ]
    },
    {
      "cell_type": "code",
      "execution_count": 12,
      "metadata": {},
      "outputs": [
        {
          "name": "stderr",
          "output_type": "stream",
          "text": [
            "/var/folders/gq/3wmh4pnj2rl1rnld2znxz3cc0000gn/T/ipykernel_45452/3358183190.py:1: DtypeWarning: Columns (18,26,70,72,85,131) have mixed types. Specify dtype option on import or set low_memory=False.\n",
            "  j40_data = pd.read_csv('j40_data.csv')\n"
          ]
        }
      ],
      "source": [
        "j40_data = pd.read_csv('j40_data.csv')\n",
        "housing_data = pd.read_csv('Community_Survey/Survey_Data.csv')\n",
        "# print(community_data.keys)\n",
        "# 484299502001041 in community_data['Census tract 2010 ID'].values\n",
        "import numpy as np\n",
        "np.argwhere(j40_data['Census tract 2010 ID'].values == 37103920100)[0,0]\n",
        "np.argwhere(housing_data['Geography'].values == \"1400000US37103920100\")[0,0]\n",
        "\n",
        "cond_housing_data = pd.DataFrame({\"Number People in Census Tract\": housing_data[\"Estimate!!Total:\"], \"Single Person Home\": housing_data.iloc[:,4:8:2].sum(axis = 1), \"2+ Person or Unconventional Home\": housing_data.iloc[:,8:-1:2].sum(axis = 1)})\n",
        "\n",
        "\n",
        "\n"
      ]
    },
    {
      "cell_type": "code",
      "execution_count": 14,
      "metadata": {},
      "outputs": [],
      "source": [
        "highway_types = ['residential', 'trunk', 'motorway', 'primary', 'secondary', 'tertiary', 'unclassified', 'service', 'road', \"living_street\"]\n",
        "highway_speeds = {\"motorway\": 65, \"trunk\": 50, \"primary\": 50, \"secondary\": 40, \"tertiary\": 40, \"unclassified\": 40, \"residential\": 25, \"living_street\": 20, \"service\": 25, \"road\": 30, \"unclassified\": 30} #in mph\n",
        "\n",
        "for hi_ty in highway_types[:7]:\n",
        "    highway_types.append(hi_ty + '_link')\n",
        "    highway_speeds[hi_ty + '_link'] = highway_speeds[hi_ty]\n",
        "\n"
      ]
    },
    {
      "cell_type": "code",
      "execution_count": 15,
      "metadata": {},
      "outputs": [],
      "source": [
        "fatal_like_speed_data = np.array([[16, 23, 31, 39, 46], [0.1, 0.25, 0.5, 0.75, 0.9]])\n",
        "\n",
        "fatal_like_speed = lambda x: np.interp(x, fatal_like_speed_data[0], fatal_like_speed_data[1])"
      ]
    },
    {
      "cell_type": "code",
      "execution_count": 16,
      "metadata": {},
      "outputs": [
        {
          "data": {
            "text/plain": [
              "PM2.5 in the air (percentile)                                                           44.0\n",
              "PM2.5 in the air                                                                        8.37\n",
              "Diesel particulate matter exposure (percentile)                                         93.0\n",
              "Diesel particulate matter exposure                                                      0.65\n",
              "Traffic proximity and volume (percentile)                                               75.0\n",
              "Traffic proximity and volume                                                          775.37\n",
              "DOT Travel Barriers Score (percentile)                                                  44.0\n",
              "Greater than or equal to the 90th percentile for housing burden and is low income?     False\n",
              "Tract experienced historic underinvestment and remains low income                      False\n",
              "Tract experienced historic underinvestment                                             False\n",
              "Number People in Census Tract                                                           1870\n",
              "Single Person Home                                                                       783\n",
              "2+ Person or Unconventional Home                                                        1087\n",
              "Maxspeed (mph)                                                                          25.0\n",
              "Likelihood Pedestrian Death in Collision (%)                                          0.3125\n",
              "Number of Amenities                                                                      2.0\n",
              "dtype: object"
            ]
          },
          "execution_count": 16,
          "metadata": {},
          "output_type": "execute_result"
        }
      ],
      "source": [
        "from pygris.geocode import geolookup\n",
        "from pygris import tracts\n",
        "import numpy as np\n",
        "\n",
        "# geolookup(longitude = -98.906, latitude= 32.75639)\n",
        "\n",
        "def get_census_num(lat, long):\n",
        "    return int(geolookup(latitude = lat, longitude =long)['GEOID'][0][:11])\n",
        "\n",
        "relev_disad = \"\"\"PM2.5 in the air (percentile)\n",
        "PM2.5 in the air\n",
        "Diesel particulate matter exposure (percentile)\n",
        "Diesel particulate matter exposure\n",
        "Traffic proximity and volume (percentile)\n",
        "Traffic proximity and volume\n",
        "DOT Travel Barriers Score (percentile)\n",
        "Greater than or equal to the 90th percentile for housing burden and is low income?\n",
        "Tract experienced historic underinvestment and remains low income\n",
        "Tract experienced historic underinvestment\"\"\".split('\\n')\n",
        "\n",
        "relevant_amenities = ['restaurant', 'pub', 'bar', 'biergarten', 'cafe', 'fast_food', 'food_court', 'ice_cream', 'library', 'atm', 'bank', 'money_transfer', 'payment_center', 'bureau_de_change', 'payment terminal', 'pharmacy', 'arts_centre', 'cinema', 'community_centre', 'planetarium']\n",
        "relevant_buildings = ['retail', 'supermarket', 'museum', 'sports_centre', 'sports_hall', 'riding_hall', 'pavilion', 'stadium']\n",
        "relevant_tourism = ['artwork', 'attraction', 'gallery', 'information', 'museum', 'picnic_site', 'viewpoint', 'zoo', ]\n",
        "\n",
        "\n",
        "def get_info(lat, long):\n",
        "    census_num = get_census_num(lat, long)\n",
        "\n",
        "    j40_row_num = np.argwhere(j40_data['Census tract 2010 ID'].values == census_num)[0,0]\n",
        "    housing_row_num = np.argwhere(housing_data['Geography'].values == f\"1400000US{census_num}\")[0,0]\n",
        "\n",
        "\n",
        "    try:\n",
        "\n",
        "        nodes = ox.features.features_from_point(center_point= (lat, long), dist = 100, tags = {\"highway\": highway_types})\n",
        "\n",
        "        if 'maxspeed' in nodes.keys():\n",
        "            max_speed = int(max(nodes['maxspeed']))\n",
        "\n",
        "        else:\n",
        "\n",
        "            speeds = [highway_speeds[hi_ty] for hi_ty in nodes[\"highway\"]]\n",
        "            max_speed = max(speeds)\n",
        "\n",
        "        # max_speed = int(max(ox.features.features_from_point(center_point= (lat, long), dist = 50, tags = {\"maxspeed\": True})[\"maxspeed\"]))\n",
        "    except:\n",
        "        max_speed = None      \n",
        "\n",
        "\n",
        "    tags = {'amenity': relevant_amenities,\n",
        "        'building': relevant_buildings,\n",
        "        'tourism': relevant_tourism}\n",
        "\n",
        "    try:\n",
        "            gdf = ox.features.features_from_point(location, dist=500, tags=tags)\n",
        "            num_amenities = len(gdf)\n",
        "    except:\n",
        "            print('No Amenities Found')\n",
        "            num_amenities = 0\n",
        "\n",
        "\n",
        "    return pd.concat([j40_data[relev_disad].iloc[j40_row_num], cond_housing_data.iloc[housing_row_num], pd.Series({'Maxspeed (mph)': max_speed, \"Likelihood Pedestrian Death in Collision (%)\": fatal_like_speed(max_speed), \"Number of Amenities\": num_amenities})])\n",
        "\n",
        "lat, long = 40.76712019120741, -73.74873126743347\n",
        "\n",
        "get_info(lat, long)\n",
        "\n"
      ]
    }
  ],
  "metadata": {
    "colab": {
      "provenance": []
    },
    "kernelspec": {
      "display_name": "Python 3",
      "name": "python3"
    },
    "language_info": {
      "codemirror_mode": {
        "name": "ipython",
        "version": 3
      },
      "file_extension": ".py",
      "mimetype": "text/x-python",
      "name": "python",
      "nbconvert_exporter": "python",
      "pygments_lexer": "ipython3",
      "version": "3.9.6"
    }
  },
  "nbformat": 4,
  "nbformat_minor": 0
}
