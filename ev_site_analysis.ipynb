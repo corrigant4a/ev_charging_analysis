{
  "cells": [
    {
      "cell_type": "code",
      "execution_count": 1,
      "metadata": {},
      "outputs": [
        {
          "name": "stderr",
          "output_type": "stream",
          "text": [
            "/Users/sampackman/Library/Python/3.9/lib/python/site-packages/urllib3/__init__.py:35: NotOpenSSLWarning: urllib3 v2 only supports OpenSSL 1.1.1+, currently the 'ssl' module is compiled with 'LibreSSL 2.8.3'. See: https://github.com/urllib3/urllib3/issues/3020\n",
            "  warnings.warn(\n",
            "/Users/sampackman/Documents/ev_charging_analysis/locational_data/get_data.py:5: DtypeWarning: Columns (18,26,70,72,85,131) have mixed types. Specify dtype option on import or set low_memory=False.\n",
            "  j40_data = read_csv('locational_data/Justice40/j40_data.csv')\n"
          ]
        }
      ],
      "source": [
        "import osmnx as ox\n",
        "import numpy as np\n",
        "import networkx as nx\n",
        "import geopandas as gpd\n",
        "import pandas as pd\n",
        "\n",
        "from shapely.geometry import Point\n",
        "from site_data_utils.nearby_amenities import find_nearby_poi\n",
        "from site_data_utils.pedest_safety import safety_info\n",
        "from site_data_utils.data_process import census_tract_data\n",
        "from site_data_utils.find_charging import find_ev_charging\n",
        "\n",
        "from pygris.geocode import geolookup\n",
        "\n",
        "\n",
        "ox.settings.log_console = True\n",
        "\n",
        "from global_params import *\n",
        "\n",
        "location = (38.87471090987962, -77.11420160108408)\n"
      ]
    },
    {
      "cell_type": "code",
      "execution_count": 2,
      "metadata": {},
      "outputs": [],
      "source": [
        "def get_info(location):\n",
        "\n",
        "    G = ox.graph_from_point(center_point = location, dist = WALK_DIST, network_type= 'walk')\n",
        "\n",
        "    tract_data = census_tract_data(location)\n",
        "\n",
        "    loc_safety_info = safety_info(location)\n",
        "\n",
        "    nearby_poi = find_nearby_poi(G, location, walking_distance = WALK_DIST)\n",
        "    \n",
        "    nearby_charging_sites = find_ev_charging(G, location, walking_distance = WALK_DIST)\n",
        "\n",
        "    return pd.concat([tract_data, loc_safety_info, nearby_poi, nearby_charging_sites])\n"
      ]
    },
    {
      "cell_type": "code",
      "execution_count": 3,
      "metadata": {},
      "outputs": [
        {
          "data": {
            "text/plain": [
              "Location in Census Tract                                                                   True\n",
              "PM2.5 in the air (percentile)                                                              49.0\n",
              "PM2.5 in the air                                                                           8.56\n",
              "Diesel particulate matter exposure (percentile)                                            85.0\n",
              "Diesel particulate matter exposure                                                         0.48\n",
              "Traffic proximity and volume (percentile)                                                  86.0\n",
              "Traffic proximity and volume                                                            1397.23\n",
              "DOT Travel Barriers Score (percentile)                                                     18.0\n",
              "Greater than or equal to the 90th percentile for housing burden and is low income?        False\n",
              "Tract experienced historic underinvestment and remains low income                         False\n",
              "Tract experienced historic underinvestment                                                  NaN\n",
              "Number People in Census Tract                                                              2532\n",
              "Single Dwelling Home                                                                       2220\n",
              "2+ Dwelling or Unconventional Home                                                          312\n",
              "Income of surrounding areas                                                            198529.0\n",
              "Estimated cost of transportation                                                        13781.0\n",
              "Cost burden for transportation                                                         0.051303\n",
              "Proportion of households without vehicles                                                   4.4\n",
              "Walk times to…Adult Education                                                         15.683922\n",
              "Grocery Stores                                                                         2.994215\n",
              "Medical Facilities                                                                     2.456237\n",
              "Parks                                                                                  1.576543\n",
              "Primary Schools                                                                        2.314206\n",
              "Drive times to…Adult Education                                                         3.349001\n",
              "Traffic fatalities per 100,000 people                                                       0.0\n",
              "Energy Burden (% income)                                                                      1\n",
              "Avg. Annual Energy Cost ($)                                                                2425\n",
              "Total Households                                                                           2463\n",
              "Household Income                                                                         277129\n",
              "Maxspeed (mph)                                                                             None\n",
              "Likelihood Pedestrian Death in Collision (%)                                               None\n",
              "amenities                                                                                     0\n",
              "bus stops                                                                                     0\n",
              "bike rentals                                                                                  0\n",
              "subway stations                                                                               0\n",
              "Number of Stations                                                                            0\n",
              "ev_dc_fast_num                                                                                0\n",
              "ev_level1_evse_num                                                                            0\n",
              "ev_level2_evse_num                                                                            0\n",
              "dtype: object"
            ]
          },
          "execution_count": 3,
          "metadata": {},
          "output_type": "execute_result"
        }
      ],
      "source": [
        "\n",
        "get_info(location)"
      ]
    }
  ],
  "metadata": {
    "colab": {
      "provenance": []
    },
    "kernelspec": {
      "display_name": "Python 3",
      "name": "python3"
    },
    "language_info": {
      "codemirror_mode": {
        "name": "ipython",
        "version": 3
      },
      "file_extension": ".py",
      "mimetype": "text/x-python",
      "name": "python",
      "nbconvert_exporter": "python",
      "pygments_lexer": "ipython3",
      "version": "3.9.6"
    }
  },
  "nbformat": 4,
  "nbformat_minor": 0
}
