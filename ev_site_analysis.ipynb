{
  "cells": [
    {
      "cell_type": "code",
      "execution_count": 4,
      "metadata": {},
      "outputs": [],
      "source": [
        "import osmnx as ox\n",
        "import numpy as np\n",
        "import networkx as nx\n",
        "import geopandas as gpd\n",
        "import pandas as pd\n",
        "\n",
        "from shapely.geometry import Point\n",
        "from nearby_amenities import find_nearby_poi\n",
        "from pedest_safety import safety_info\n",
        "from data_process import census_tract_data\n",
        "from find_charging import find_ev_charging\n",
        "\n",
        "ox.settings.log_console = True\n",
        "\n",
        "from global_params import *\n",
        "\n",
        "location = (38.889796468981366, -77.02800028797954)\n"
      ]
    },
    {
      "cell_type": "markdown",
      "metadata": {},
      "source": [
        "TODOs\n",
        "\n",
        "update walking safety to include actual routes - maybe\n"
      ]
    },
    {
      "cell_type": "code",
      "execution_count": 5,
      "metadata": {},
      "outputs": [],
      "source": [
        "def get_info(location):\n",
        "\n",
        "    G = ox.graph_from_point(center_point = location, dist = WALK_DIST, network_type= 'walk')\n",
        "\n",
        "    tract_data = census_tract_data(location)\n",
        "\n",
        "    loc_safety_info = safety_info(location)\n",
        "\n",
        "    nearby_poi = find_nearby_poi(G, location, walking_distance = WALK_DIST)\n",
        "    \n",
        "    nearby_charging_sites = find_ev_charging(G, location, walking_distance = WALK_DIST)\n",
        "\n",
        "    return pd.concat([tract_data, loc_safety_info, nearby_poi, nearby_charging_sites])\n"
      ]
    },
    {
      "cell_type": "code",
      "execution_count": 6,
      "metadata": {},
      "outputs": [
        {
          "data": {
            "text/plain": [
              "Location in Census Tract                        False\n",
              "Maxspeed (mph)                                   None\n",
              "Likelihood Pedestrian Death in Collision (%)     None\n",
              "amenities                                           0\n",
              "bus stops                                           0\n",
              "bike rentals                                        0\n",
              "subway stations                                     0\n",
              "Number of Stations                                  1\n",
              "ev_dc_fast_num                                      0\n",
              "ev_level1_evse_num                                  0\n",
              "ev_level2_evse_num                                  2\n",
              "dtype: object"
            ]
          },
          "execution_count": 6,
          "metadata": {},
          "output_type": "execute_result"
        }
      ],
      "source": [
        "\n",
        "get_info(location)"
      ]
    }
  ],
  "metadata": {
    "colab": {
      "provenance": []
    },
    "kernelspec": {
      "display_name": "Python 3",
      "name": "python3"
    },
    "language_info": {
      "codemirror_mode": {
        "name": "ipython",
        "version": 3
      },
      "file_extension": ".py",
      "mimetype": "text/x-python",
      "name": "python",
      "nbconvert_exporter": "python",
      "pygments_lexer": "ipython3",
      "version": "3.9.6"
    }
  },
  "nbformat": 4,
  "nbformat_minor": 0
}
