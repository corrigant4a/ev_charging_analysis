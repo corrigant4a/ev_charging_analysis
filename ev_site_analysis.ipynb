{
  "cells": [
    {
      "cell_type": "code",
      "execution_count": 1,
      "metadata": {},
      "outputs": [
        {
          "name": "stderr",
          "output_type": "stream",
          "text": [
            "/Users/sampackman/Library/Python/3.9/lib/python/site-packages/urllib3/__init__.py:35: NotOpenSSLWarning: urllib3 v2 only supports OpenSSL 1.1.1+, currently the 'ssl' module is compiled with 'LibreSSL 2.8.3'. See: https://github.com/urllib3/urllib3/issues/3020\n",
            "  warnings.warn(\n",
            "/Users/sampackman/Documents/ev_charging_analysis/data_process.py:23: DtypeWarning: Columns (18,26,70,72,85,131) have mixed types. Specify dtype option on import or set low_memory=False.\n",
            "  j40_data = pd.read_csv('j40_data.csv')\n"
          ]
        }
      ],
      "source": [
        "import osmnx as ox\n",
        "import numpy as np\n",
        "import networkx as nx\n",
        "import geopandas as gpd\n",
        "import pandas as pd\n",
        "\n",
        "from shapely.geometry import Point\n",
        "from nearby_amenities import find_nearby_poi\n",
        "from pedest_safety import safety_info\n",
        "from data_process import get_housing_info, get_j40_info\n",
        "from find_charging import find_ev_charging\n",
        "\n",
        "ox.settings.log_console = True\n",
        "\n",
        "from global_params import *\n",
        "\n",
        "location = (38.925524, -77.055794)\n"
      ]
    },
    {
      "cell_type": "markdown",
      "metadata": {},
      "source": [
        "TODOs\n",
        "\n",
        "Integrate new measures, \n",
        "\n",
        "transit access from OSMNX - done\n",
        "\n",
        "update to include walking distance - done\n",
        "\n",
        "Alt Fuel Data center - how many and what kind of chargers in a site - done\n"
      ]
    },
    {
      "cell_type": "markdown",
      "metadata": {},
      "source": [
        "\n",
        "PM2.5 in the air (percentile)\n",
        "PM2.5 in the air\n",
        "\n",
        "Diesel particulate matter exposure (percentile)\n",
        "Diesel particulate matter exposure\n",
        "\n",
        "Traffic proximity and volume (percentile)\n",
        "Traffic proximity and volume\n",
        "\n",
        "DOT Travel Barriers Score (percentile)\n",
        "Greater than or equal to the 90th percentile for housing burden and is low income?\n",
        "\n",
        "Tract experienced historic underinvestment and remains low income\n",
        "Tract experienced historic underinvestment\n",
        "    \n"
      ]
    },
    {
      "cell_type": "code",
      "execution_count": 2,
      "metadata": {},
      "outputs": [],
      "source": [
        "def get_info(location):\n",
        "\n",
        "    G = ox.graph_from_point(center_point = location, dist = WALK_DIST, network_type= 'walk')\n",
        "\n",
        "    j40_info = get_j40_info(location)\n",
        "    \n",
        "    housing_info = get_housing_info(location)\n",
        "\n",
        "    max_speed, like_fatal = safety_info(location)\n",
        "\n",
        "    nearby_poi = find_nearby_poi(G, location, walking_distance= WALK_DIST)\n",
        "    \n",
        "    nearby_charging_sites = find_ev_charging(G, location)\n",
        "\n",
        "    return pd.concat([j40_info, housing_info, pd.Series({'Maxspeed (mph)': max_speed, \"Likelihood Pedestrian Death in Collision (%)\": like_fatal}), nearby_poi, nearby_charging_sites])\n"
      ]
    },
    {
      "cell_type": "markdown",
      "metadata": {},
      "source": [
        "PM2.5 in the air (percentile)                                                           44.0\n",
        "PM2.5 in the air                                                                        8.37\n",
        "Diesel particulate matter exposure (percentile)                                         93.0\n",
        "Diesel particulate matter exposure                                                      0.65\n",
        "Traffic proximity and volume (percentile)                                               75.0\n",
        "Traffic proximity and volume                                                          775.37\n",
        "DOT Travel Barriers Score (percentile)                                                  44.0\n",
        "Greater than or equal to the 90th percentile for housing burden and is low income?     False\n",
        "Tract experienced historic underinvestment and remains low income                      False\n",
        "Tract experienced historic underinvestment                                             False\n",
        "Number People in Census Tract                                                           1870\n",
        "Single Person Home                                                                       783\n",
        "2+ Person or Unconventional Home                                                        1087\n",
        "Maxspeed (mph)                                                                          25.0\n",
        "Likelihood Pedestrian Death in Collision (%)                                          0.3125\n",
        "Number of Amenities                                                                      2.0\n",
        "dtype: object"
      ]
    },
    {
      "cell_type": "code",
      "execution_count": 5,
      "metadata": {},
      "outputs": [
        {
          "data": {
            "text/plain": [
              "PM2.5 in the air (percentile)                                                            53.0\n",
              "PM2.5 in the air                                                                         8.66\n",
              "Diesel particulate matter exposure (percentile)                                          90.0\n",
              "Diesel particulate matter exposure                                                       0.56\n",
              "Traffic proximity and volume (percentile)                                                91.0\n",
              "Traffic proximity and volume                                                          2057.62\n",
              "DOT Travel Barriers Score (percentile)                                                   33.0\n",
              "Greater than or equal to the 90th percentile for housing burden and is low income?      False\n",
              "Tract experienced historic underinvestment and remains low income                       False\n",
              "Tract experienced historic underinvestment                                                NaN\n",
              "Number People in Census Tract                                                            2539\n",
              "Single Dwelling Home                                                                      229\n",
              "2+ Dwelling or Unconventional Home                                                       2310\n",
              "Maxspeed (mph)                                                                           None\n",
              "Likelihood Pedestrian Death in Collision (%)                                             None\n",
              "amenities                                                                                   0\n",
              "bus stops                                                                                   0\n",
              "bike rentals                                                                                0\n",
              "subway stations                                                                             0\n",
              "Number of Stations                                                                          1\n",
              "ev_dc_fast_num                                                                              0\n",
              "ev_level1_evse_num                                                                          0\n",
              "ev_level2_evse_num                                                                          2\n",
              "dtype: object"
            ]
          },
          "execution_count": 5,
          "metadata": {},
          "output_type": "execute_result"
        }
      ],
      "source": [
        "\n",
        "get_info(location)"
      ]
    }
  ],
  "metadata": {
    "colab": {
      "provenance": []
    },
    "kernelspec": {
      "display_name": "Python 3",
      "name": "python3"
    },
    "language_info": {
      "codemirror_mode": {
        "name": "ipython",
        "version": 3
      },
      "file_extension": ".py",
      "mimetype": "text/x-python",
      "name": "python",
      "nbconvert_exporter": "python",
      "pygments_lexer": "ipython3",
      "version": "3.9.6"
    }
  },
  "nbformat": 4,
  "nbformat_minor": 0
}
