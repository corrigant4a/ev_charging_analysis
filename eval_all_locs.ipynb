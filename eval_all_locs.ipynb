{
 "cells": [
  {
   "cell_type": "code",
   "execution_count": 1,
   "metadata": {},
   "outputs": [
    {
     "name": "stderr",
     "output_type": "stream",
     "text": [
      "/Users/sampackman/Library/Python/3.9/lib/python/site-packages/urllib3/__init__.py:35: NotOpenSSLWarning: urllib3 v2 only supports OpenSSL 1.1.1+, currently the 'ssl' module is compiled with 'LibreSSL 2.8.3'. See: https://github.com/urllib3/urllib3/issues/3020\n",
      "  warnings.warn(\n",
      "/Users/sampackman/Documents/ev_charging_analysis/site_data_utils/locational_data/get_data.py:5: DtypeWarning: Columns (18,26,70,72,85,131) have mixed types. Specify dtype option on import or set low_memory=False.\n",
      "  j40_data = read_csv('site_data_utils/locational_data/Justice40/j40_data.csv')\n"
     ]
    },
    {
     "name": "stdout",
     "output_type": "stream",
     "text": [
      "Site Data found for 549/550 locations\n"
     ]
    }
   ],
   "source": [
    "from site_data_utils.site_analysis import get_info\n",
    "from Existing_Site_Data.geocode_sites import loc_data\n",
    "import pandas as pd\n",
    "import math\n",
    "import osmnx as ox\n"
   ]
  },
  {
   "cell_type": "code",
   "execution_count": 2,
   "metadata": {},
   "outputs": [
    {
     "name": "stdout",
     "output_type": "stream",
     "text": [
      "Site data not found\n"
     ]
    }
   ],
   "source": [
    "\n",
    "coord_data = pd.read_csv('Existing_Site_Data/site_coords.csv', delimiter = ';')\n",
    "\n",
    "score_types = ['Location in Census Tract', 'PM2.5 in the air (percentile)',\n",
    "       'PM2.5 in the air', 'Diesel particulate matter exposure (percentile)',\n",
    "       'Diesel particulate matter exposure',\n",
    "       'Traffic proximity and volume (percentile)',\n",
    "       'Traffic proximity and volume',\n",
    "       'DOT Travel Barriers Score (percentile)',\n",
    "       'Greater than or equal to the 90th percentile for housing burden and is low income?',\n",
    "       'Tract experienced historic underinvestment and remains low income',\n",
    "       'Tract experienced historic underinvestment',\n",
    "       'Number People in Census Tract', 'Single Dwelling Home',\n",
    "       '2+ Dwelling or Unconventional Home', 'Income of surrounding areas',\n",
    "       'Estimated cost of transportation', 'Cost burden for transportation',\n",
    "       'Proportion of households without vehicles',\n",
    "       'Walk times to…Adult Education', 'Grocery Stores', 'Medical Facilities',\n",
    "       'Parks', 'Primary Schools', 'Drive times to…Adult Education',\n",
    "       'Traffic fatalities per 100,000 people', 'Energy Burden (% income)',\n",
    "       'Avg. Annual Energy Cost ($)', 'Total Households', 'Household Income',\n",
    "       'Maxspeed (mph)', 'Likelihood Pedestrian Death in Collision (%)',\n",
    "       'amenities', 'bus stops', 'bike rentals', 'subway stations',\n",
    "       'Number of Stations', 'ev_dc_fast_num', 'ev_level1_evse_num',\n",
    "       'ev_level2_evse_num']\n",
    "try:\n",
    "    scored_locs = pd.read_csv('Existing_Site_Data/scored_locs.csv', delimiter = ';')\n",
    "    print(f'Site Data found for {len(loc_data)}/{len(coord_data)} locations')\n",
    "except:\n",
    "    scored_locs = pd.DataFrame(columns = ['Address', 'Latitude', 'Longitude'] + score_types)\n",
    "    print('Site data not found')\n",
    "\n",
    "\n",
    "\n",
    "\n",
    "\n",
    "\n",
    "\n"
   ]
  },
  {
   "cell_type": "code",
   "execution_count": 3,
   "metadata": {},
   "outputs": [
    {
     "name": "stdout",
     "output_type": "stream",
     "text": [
      "0\n",
      "39.7400159 -84.6364412\n",
      "1\n",
      "nan nan\n",
      "Could not score location\n",
      "2\n",
      "39.9658123 -81.89957600167688\n",
      "3\n",
      "39.7374555 -81.5274388918534\n",
      "4\n",
      "41.1027032 -81.3845912\n",
      "5\n",
      "40.4926079 -81.4722184\n",
      "6\n",
      "40.65409865 -84.13475617494771\n"
     ]
    },
    {
     "ename": "ValueError",
     "evalue": "Graph contains no edges",
     "output_type": "error",
     "traceback": [
      "\u001b[0;31m---------------------------------------------------------------------------\u001b[0m",
      "\u001b[0;31mValueError\u001b[0m                                Traceback (most recent call last)",
      "Cell \u001b[0;32mIn[3], line 10\u001b[0m\n\u001b[1;32m      6\u001b[0m \u001b[38;5;28;01mif\u001b[39;00m address \u001b[38;5;129;01mnot\u001b[39;00m \u001b[38;5;129;01min\u001b[39;00m scored_locs[\u001b[38;5;124m'\u001b[39m\u001b[38;5;124mAddress\u001b[39m\u001b[38;5;124m'\u001b[39m]\u001b[38;5;241m.\u001b[39mvalues:\n\u001b[1;32m      8\u001b[0m     \u001b[38;5;28;01mif\u001b[39;00m \u001b[38;5;129;01mnot\u001b[39;00m math\u001b[38;5;241m.\u001b[39misnan(lat):\n\u001b[0;32m---> 10\u001b[0m         score \u001b[38;5;241m=\u001b[39m \u001b[43mget_info\u001b[49m\u001b[43m(\u001b[49m\u001b[43m(\u001b[49m\u001b[43mlat\u001b[49m\u001b[43m,\u001b[49m\u001b[43m \u001b[49m\u001b[43mlong\u001b[49m\u001b[43m)\u001b[49m\u001b[43m,\u001b[49m\u001b[43m \u001b[49m\u001b[43moutput\u001b[49m\u001b[38;5;241;43m=\u001b[39;49m\u001b[38;5;124;43m'\u001b[39;49m\u001b[38;5;124;43mDataFrame\u001b[39;49m\u001b[38;5;124;43m'\u001b[39;49m\u001b[43m)\u001b[49m\n\u001b[1;32m     12\u001b[0m     \u001b[38;5;28;01melse\u001b[39;00m:\n\u001b[1;32m     13\u001b[0m         \u001b[38;5;28mprint\u001b[39m(\u001b[38;5;124m'\u001b[39m\u001b[38;5;124mCould not score location\u001b[39m\u001b[38;5;124m'\u001b[39m)\n",
      "File \u001b[0;32m~/Documents/ev_charging_analysis/site_data_utils/site_analysis.py:32\u001b[0m, in \u001b[0;36mget_info\u001b[0;34m(location, output)\u001b[0m\n\u001b[1;32m     28\u001b[0m loc_safety_info \u001b[38;5;241m=\u001b[39m safety_info(location)\n\u001b[1;32m     30\u001b[0m nearby_poi \u001b[38;5;241m=\u001b[39m find_nearby_poi(G, location, walking_distance \u001b[38;5;241m=\u001b[39m WALK_DIST)\n\u001b[0;32m---> 32\u001b[0m nearby_charging_sites \u001b[38;5;241m=\u001b[39m \u001b[43mfind_ev_charging\u001b[49m\u001b[43m(\u001b[49m\u001b[43mG\u001b[49m\u001b[43m,\u001b[49m\u001b[43m \u001b[49m\u001b[43mlocation\u001b[49m\u001b[43m,\u001b[49m\u001b[43m \u001b[49m\u001b[43mwalking_distance\u001b[49m\u001b[43m \u001b[49m\u001b[38;5;241;43m=\u001b[39;49m\u001b[43m \u001b[49m\u001b[43mWALK_DIST\u001b[49m\u001b[43m)\u001b[49m\n\u001b[1;32m     33\u001b[0m \u001b[38;5;66;03m#gets all relevant data from each function\u001b[39;00m\n\u001b[1;32m     35\u001b[0m data_frame \u001b[38;5;241m=\u001b[39m pd\u001b[38;5;241m.\u001b[39mconcat([tract_data, loc_safety_info, nearby_poi, nearby_charging_sites])\n",
      "File \u001b[0;32m~/Documents/ev_charging_analysis/site_data_utils/find_charging.py:35\u001b[0m, in \u001b[0;36mfind_ev_charging\u001b[0;34m(G, location, walking_distance)\u001b[0m\n\u001b[1;32m     32\u001b[0m \u001b[38;5;28;01mfor\u001b[39;00m station \u001b[38;5;129;01min\u001b[39;00m response[\u001b[38;5;124m'\u001b[39m\u001b[38;5;124mfuel_stations\u001b[39m\u001b[38;5;124m'\u001b[39m]:\n\u001b[1;32m     33\u001b[0m     ev_loc \u001b[38;5;241m=\u001b[39m (station[\u001b[38;5;124m'\u001b[39m\u001b[38;5;124mlatitude\u001b[39m\u001b[38;5;124m'\u001b[39m], station[\u001b[38;5;124m'\u001b[39m\u001b[38;5;124mlongitude\u001b[39m\u001b[38;5;124m'\u001b[39m])\n\u001b[0;32m---> 35\u001b[0m     \u001b[38;5;28;01mif\u001b[39;00m \u001b[43mtest_walking_distance\u001b[49m\u001b[43m(\u001b[49m\u001b[43mG\u001b[49m\u001b[43m,\u001b[49m\u001b[43m \u001b[49m\u001b[43mlocation\u001b[49m\u001b[43m,\u001b[49m\u001b[43m \u001b[49m\u001b[43mev_loc\u001b[49m\u001b[43m,\u001b[49m\u001b[43m \u001b[49m\u001b[43mwalking_distance\u001b[49m\u001b[43m)\u001b[49m:\n\u001b[1;32m     36\u001b[0m          \u001b[38;5;66;03m#check that station is within network walking distance rather than\u001b[39;00m\n\u001b[1;32m     37\u001b[0m          \u001b[38;5;66;03m#Euclidean distance which is returned by the NREL API\u001b[39;00m\n\u001b[1;32m     38\u001b[0m         site_stats[\u001b[38;5;124m'\u001b[39m\u001b[38;5;124mNumber of Stations\u001b[39m\u001b[38;5;124m'\u001b[39m] \u001b[38;5;241m+\u001b[39m\u001b[38;5;241m=\u001b[39m \u001b[38;5;241m1\u001b[39m \n\u001b[1;32m     40\u001b[0m         \u001b[38;5;28;01mfor\u001b[39;00m charge_type \u001b[38;5;129;01min\u001b[39;00m charger_types:\n",
      "File \u001b[0;32m~/Documents/ev_charging_analysis/site_data_utils/nearby_amenities.py:42\u001b[0m, in \u001b[0;36mtest_walking_distance\u001b[0;34m(G, location, test_loc, walking_distance)\u001b[0m\n\u001b[1;32m     39\u001b[0m node2, dist2 \u001b[38;5;241m=\u001b[39m ox\u001b[38;5;241m.\u001b[39mdistance\u001b[38;5;241m.\u001b[39mnearest_nodes(G, X \u001b[38;5;241m=\u001b[39m test_loc[\u001b[38;5;241m1\u001b[39m], Y \u001b[38;5;241m=\u001b[39m test_loc[\u001b[38;5;241m0\u001b[39m], return_dist \u001b[38;5;241m=\u001b[39m \u001b[38;5;28;01mTrue\u001b[39;00m)\n\u001b[1;32m     41\u001b[0m route \u001b[38;5;241m=\u001b[39m ox\u001b[38;5;241m.\u001b[39mrouting\u001b[38;5;241m.\u001b[39mshortest_path(G, node1, node2, weight\u001b[38;5;241m=\u001b[39m\u001b[38;5;124m'\u001b[39m\u001b[38;5;124mlength\u001b[39m\u001b[38;5;124m'\u001b[39m, cpus\u001b[38;5;241m=\u001b[39m\u001b[38;5;241m1\u001b[39m)\n\u001b[0;32m---> 42\u001b[0m edges \u001b[38;5;241m=\u001b[39m \u001b[43mox\u001b[49m\u001b[38;5;241;43m.\u001b[39;49m\u001b[43mrouting\u001b[49m\u001b[38;5;241;43m.\u001b[39;49m\u001b[43mroute_to_gdf\u001b[49m\u001b[43m(\u001b[49m\u001b[43mG\u001b[49m\u001b[43m,\u001b[49m\u001b[43m \u001b[49m\u001b[43mroute\u001b[49m\u001b[43m,\u001b[49m\u001b[43m \u001b[49m\u001b[43mweight\u001b[49m\u001b[43m \u001b[49m\u001b[38;5;241;43m=\u001b[39;49m\u001b[43m \u001b[49m\u001b[38;5;124;43m'\u001b[39;49m\u001b[38;5;124;43mlength\u001b[39;49m\u001b[38;5;124;43m'\u001b[39;49m\u001b[43m)\u001b[49m\n\u001b[1;32m     44\u001b[0m total_dist \u001b[38;5;241m=\u001b[39m dist1 \u001b[38;5;241m+\u001b[39m \u001b[38;5;28msum\u001b[39m(edges[\u001b[38;5;124m'\u001b[39m\u001b[38;5;124mlength\u001b[39m\u001b[38;5;124m'\u001b[39m]) \u001b[38;5;241m+\u001b[39m dist2\n\u001b[1;32m     46\u001b[0m \u001b[38;5;28;01mreturn\u001b[39;00m total_dist \u001b[38;5;241m<\u001b[39m\u001b[38;5;241m=\u001b[39m walking_distance\n",
      "File \u001b[0;32m~/Library/Python/3.9/lib/python/site-packages/osmnx/routing.py:36\u001b[0m, in \u001b[0;36mroute_to_gdf\u001b[0;34m(G, route, weight)\u001b[0m\n\u001b[1;32m     34\u001b[0m pairs \u001b[38;5;241m=\u001b[39m \u001b[38;5;28mzip\u001b[39m(route[:\u001b[38;5;241m-\u001b[39m\u001b[38;5;241m1\u001b[39m], route[\u001b[38;5;241m1\u001b[39m:])\n\u001b[1;32m     35\u001b[0m uvk \u001b[38;5;241m=\u001b[39m ((u, v, \u001b[38;5;28mmin\u001b[39m(G[u][v]\u001b[38;5;241m.\u001b[39mitems(), key\u001b[38;5;241m=\u001b[39m\u001b[38;5;28;01mlambda\u001b[39;00m i: i[\u001b[38;5;241m1\u001b[39m][weight])[\u001b[38;5;241m0\u001b[39m]) \u001b[38;5;28;01mfor\u001b[39;00m u, v \u001b[38;5;129;01min\u001b[39;00m pairs)\n\u001b[0;32m---> 36\u001b[0m \u001b[38;5;28;01mreturn\u001b[39;00m \u001b[43mconvert\u001b[49m\u001b[38;5;241;43m.\u001b[39;49m\u001b[43mgraph_to_gdfs\u001b[49m\u001b[43m(\u001b[49m\u001b[43mG\u001b[49m\u001b[38;5;241;43m.\u001b[39;49m\u001b[43msubgraph\u001b[49m\u001b[43m(\u001b[49m\u001b[43mroute\u001b[49m\u001b[43m)\u001b[49m\u001b[43m,\u001b[49m\u001b[43m \u001b[49m\u001b[43mnodes\u001b[49m\u001b[38;5;241;43m=\u001b[39;49m\u001b[38;5;28;43;01mFalse\u001b[39;49;00m\u001b[43m)\u001b[49m\u001b[38;5;241m.\u001b[39mloc[uvk]\n",
      "File \u001b[0;32m~/Library/Python/3.9/lib/python/site-packages/osmnx/convert.py:63\u001b[0m, in \u001b[0;36mgraph_to_gdfs\u001b[0;34m(G, nodes, edges, node_geometry, fill_edge_geometry)\u001b[0m\n\u001b[1;32m     61\u001b[0m \u001b[38;5;28;01mif\u001b[39;00m \u001b[38;5;129;01mnot\u001b[39;00m G\u001b[38;5;241m.\u001b[39medges:  \u001b[38;5;66;03m# pragma: no cover\u001b[39;00m\n\u001b[1;32m     62\u001b[0m     msg \u001b[38;5;241m=\u001b[39m \u001b[38;5;124m\"\u001b[39m\u001b[38;5;124mGraph contains no edges\u001b[39m\u001b[38;5;124m\"\u001b[39m\n\u001b[0;32m---> 63\u001b[0m     \u001b[38;5;28;01mraise\u001b[39;00m \u001b[38;5;167;01mValueError\u001b[39;00m(msg)\n\u001b[1;32m     65\u001b[0m u, v, k, data \u001b[38;5;241m=\u001b[39m \u001b[38;5;28mzip\u001b[39m(\u001b[38;5;241m*\u001b[39mG\u001b[38;5;241m.\u001b[39medges(keys\u001b[38;5;241m=\u001b[39m\u001b[38;5;28;01mTrue\u001b[39;00m, data\u001b[38;5;241m=\u001b[39m\u001b[38;5;28;01mTrue\u001b[39;00m))\n\u001b[1;32m     67\u001b[0m \u001b[38;5;28;01mif\u001b[39;00m fill_edge_geometry:\n\u001b[1;32m     68\u001b[0m     \u001b[38;5;66;03m# subroutine to get geometry for every edge: if edge already has\u001b[39;00m\n\u001b[1;32m     69\u001b[0m     \u001b[38;5;66;03m# geometry return it, otherwise create it using the incident nodes\u001b[39;00m\n",
      "\u001b[0;31mValueError\u001b[0m: Graph contains no edges"
     ]
    }
   ],
   "source": [
    "\n",
    "for i, row in coord_data.iterrows():\n",
    "    (address, lat, long) = row\n",
    "    print(i)\n",
    "    print(lat, long)\n",
    "\n",
    "    if address not in scored_locs['Address'].values:\n",
    "\n",
    "        if not math.isnan(lat):\n",
    "            \n",
    "            score = get_info((lat, long), output='DataFrame')\n",
    "\n",
    "        else:\n",
    "            print('Could not score location')\n",
    "            score = pd.Series({key: None for key in score_types})\n",
    "        scored_locs.loc[len(scored_locs)] = pd.concat([pd.Series(row), score])\n",
    "            \n",
    "        \n",
    "scored_locs.to_csv('scored_locs.csv', sep = ';', columns= ['Address', 'Latitude', 'Longitude'] + score_types, index = False)\n"
   ]
  },
  {
   "cell_type": "code",
   "execution_count": null,
   "metadata": {},
   "outputs": [
    {
     "name": "stdout",
     "output_type": "stream",
     "text": [
      "                                          Address   Latitude  Longitude  \\\n",
      "0                    6141 US-127, Eaton, OH 45320  39.740016 -84.636441   \n",
      "1    10480 Baltimore Rd SW, Millersport, OH 43046        NaN        NaN   \n",
      "2               4929 E Pike, Zanesville, OH 43701  39.965812 -81.899576   \n",
      "3         44133 Fairground Rd, Caldwell, OH 43724  39.737456 -81.527439   \n",
      "4                 219 Tallmadge Rd Kent, OH 44240  41.102703 -81.384591   \n",
      "5  125 Bluebell Dr SW, New Philadelphia, OH 44663  40.492608 -81.472218   \n",
      "\n",
      "  Location in Census Tract PM2.5 in the air (percentile) PM2.5 in the air  \\\n",
      "0                     True                          73.0             9.36   \n",
      "1                     None                          None             None   \n",
      "2                     True                          44.0             8.37   \n",
      "3                      0.0                           NaN              NaN   \n",
      "4                      0.0                           NaN              NaN   \n",
      "5                    False                           NaN              NaN   \n",
      "\n",
      "  Diesel particulate matter exposure (percentile)  \\\n",
      "0                                            38.0   \n",
      "1                                            None   \n",
      "2                                            28.0   \n",
      "3                                             NaN   \n",
      "4                                             NaN   \n",
      "5                                             NaN   \n",
      "\n",
      "  Diesel particulate matter exposure  \\\n",
      "0                               0.19   \n",
      "1                               None   \n",
      "2                               0.15   \n",
      "3                                NaN   \n",
      "4                                NaN   \n",
      "5                                NaN   \n",
      "\n",
      "  Traffic proximity and volume (percentile) Traffic proximity and volume  ...  \\\n",
      "0                                      29.0                       109.48  ...   \n",
      "1                                      None                         None  ...   \n",
      "2                                      37.0                       168.97  ...   \n",
      "3                                       NaN                          NaN  ...   \n",
      "4                                       NaN                          NaN  ...   \n",
      "5                                       NaN                          NaN  ...   \n",
      "\n",
      "  Maxspeed (mph) Likelihood Pedestrian Death in Collision (%) amenities  \\\n",
      "0           50.0                                          0.9         0   \n",
      "1           None                                         None      None   \n",
      "2           None                                         None         0   \n",
      "3           65.0                                          0.9       0.0   \n",
      "4           25.0                                       0.3125       0.0   \n",
      "5           None                                         None         0   \n",
      "\n",
      "  bus stops bike rentals subway stations Number of Stations ev_dc_fast_num  \\\n",
      "0         0            0               0                  0              0   \n",
      "1      None         None            None               None           None   \n",
      "2         0            0               0                  0              0   \n",
      "3       0.0          0.0             0.0                0.0            0.0   \n",
      "4       0.0          0.0             0.0                0.0            0.0   \n",
      "5         0            0               0                  1             12   \n",
      "\n",
      "  ev_level1_evse_num ev_level2_evse_num  \n",
      "0                  0                  0  \n",
      "1               None               None  \n",
      "2                  0                  0  \n",
      "3                0.0                0.0  \n",
      "4                0.0                0.0  \n",
      "5                  0                  0  \n",
      "\n",
      "[6 rows x 42 columns]\n"
     ]
    }
   ],
   "source": [
    "print(scored_locs)"
   ]
  },
  {
   "cell_type": "code",
   "execution_count": null,
   "metadata": {},
   "outputs": [
    {
     "data": {
      "text/plain": [
       "Location in Census Tract                                                                    True\n",
       "PM2.5 in the air (percentile)                                                               73.0\n",
       "PM2.5 in the air                                                                            9.36\n",
       "Diesel particulate matter exposure (percentile)                                             38.0\n",
       "Diesel particulate matter exposure                                                          0.19\n",
       "Traffic proximity and volume (percentile)                                                   29.0\n",
       "Traffic proximity and volume                                                              109.48\n",
       "DOT Travel Barriers Score (percentile)                                                      84.0\n",
       "Greater than or equal to the 90th percentile for housing burden and is low income?         False\n",
       "Tract experienced historic underinvestment and remains low income                          False\n",
       "Tract experienced historic underinvestment                                                   NaN\n",
       "Number People in Census Tract                                                                895\n",
       "Single Dwelling Home                                                                         786\n",
       "2+ Dwelling or Unconventional Home                                                           109\n",
       "Income of surrounding areas                                                              50625.0\n",
       "Estimated cost of transportation                                                         11014.0\n",
       "Cost burden for transportation                                                          0.181121\n",
       "Proportion of households without vehicles                                                    7.6\n",
       "Walk times to…Adult Education                                                         390.019461\n",
       "Grocery Stores                                                                          5.865403\n",
       "Medical Facilities                                                                      4.254994\n",
       "Parks                                                                                   1.735268\n",
       "Primary Schools                                                                         1.971923\n",
       "Drive times to…Adult Education                                                         25.195685\n",
       "Traffic fatalities per 100,000 people                                                        0.0\n",
       "Energy Burden (% income)                                                                       3\n",
       "Avg. Annual Energy Cost ($)                                                                 2255\n",
       "Total Households                                                                             875\n",
       "Household Income                                                                           72176\n",
       "Maxspeed (mph)                                                                              50.0\n",
       "Likelihood Pedestrian Death in Collision (%)                                                 0.9\n",
       "amenities                                                                                      0\n",
       "bus stops                                                                                      0\n",
       "bike rentals                                                                                   0\n",
       "subway stations                                                                                0\n",
       "Number of Stations                                                                             0\n",
       "ev_dc_fast_num                                                                                 0\n",
       "ev_level1_evse_num                                                                             0\n",
       "ev_level2_evse_num                                                                             0\n",
       "dtype: object"
      ]
     },
     "execution_count": 5,
     "metadata": {},
     "output_type": "execute_result"
    }
   ],
   "source": [
    "get_info((39.7400159, -84.6364412))"
   ]
  }
 ],
 "metadata": {
  "kernelspec": {
   "display_name": "Python 3",
   "language": "python",
   "name": "python3"
  },
  "language_info": {
   "codemirror_mode": {
    "name": "ipython",
    "version": 3
   },
   "file_extension": ".py",
   "mimetype": "text/x-python",
   "name": "python",
   "nbconvert_exporter": "python",
   "pygments_lexer": "ipython3",
   "version": "3.9.6"
  }
 },
 "nbformat": 4,
 "nbformat_minor": 2
}
