{
 "cells": [
  {
   "cell_type": "code",
   "execution_count": 1,
   "metadata": {},
   "outputs": [
    {
     "name": "stderr",
     "output_type": "stream",
     "text": [
      "/Users/sampackman/Library/Python/3.9/lib/python/site-packages/urllib3/__init__.py:35: NotOpenSSLWarning: urllib3 v2 only supports OpenSSL 1.1.1+, currently the 'ssl' module is compiled with 'LibreSSL 2.8.3'. See: https://github.com/urllib3/urllib3/issues/3020\n",
      "  warnings.warn(\n",
      "/Users/sampackman/Documents/ev_charging_analysis/site_data_utils/locational_data/get_data.py:5: DtypeWarning: Columns (18,26,70,72,85,131) have mixed types. Specify dtype option on import or set low_memory=False.\n",
      "  j40_data = read_csv('site_data_utils/locational_data/Justice40/j40_data.csv')\n"
     ]
    }
   ],
   "source": [
    "from site_data_utils.site_analysis import get_info\n",
    "# from Existing_Site_Data.geocode_sites import loc_data\n",
    "import pandas as pd\n",
    "import math\n",
    "import osmnx as ox\n"
   ]
  },
  {
   "cell_type": "code",
   "execution_count": 2,
   "metadata": {},
   "outputs": [],
   "source": [
    "\n",
    "# coord_data = pd.read_csv('Existing_Site_Data/site_coords.csv', delimiter = ';')\n",
    "addresses = pd.read_csv('Existing_Site_Data/NEVI Project Site Locations - 5_23_24 Update.csv')['Address']\n",
    "\n",
    "\n",
    "score_types = ['PM2.5 in the air (percentile)',\n",
    "       'PM2.5 in the air', 'Diesel particulate matter exposure (percentile)',\n",
    "       'Diesel particulate matter exposure',\n",
    "       'Traffic proximity and volume (percentile)',\n",
    "       'Traffic proximity and volume',\n",
    "       'DOT Travel Barriers Score (percentile)',\n",
    "       'Greater than or equal to the 90th percentile for housing burden and is low income?',\n",
    "       'Tract experienced historic underinvestment and remains low income',\n",
    "       'Tract experienced historic underinvestment',\n",
    "       'Number People in Census Tract', 'Single Dwelling Home',\n",
    "       '2+ Dwelling or Unconventional Home', 'Income of surrounding areas',\n",
    "       'Estimated cost of transportation', 'Cost burden for transportation',\n",
    "       'Proportion of households without vehicles',\n",
    "       'Walk times to…Adult Education', 'Grocery Stores', 'Medical Facilities',\n",
    "       'Parks', 'Primary Schools', 'Drive times to…Adult Education',\n",
    "       'Traffic fatalities per 100,000 people', 'Energy Burden (% income)',\n",
    "       'Avg. Annual Energy Cost ($)', 'Total Households', 'Household Income',\n",
    "       'Maxspeed (mph)', 'Likelihood Pedestrian Death in Collision (%)',\n",
    "       'amenities', 'bus stops', 'bike rentals', 'subway stations',\n",
    "       'Number of Stations', 'ev_dc_fast_num', 'ev_level1_evse_num',\n",
    "       'ev_level2_evse_num']\n",
    "# try:\n",
    "#     scored_locs = pd.read_csv('Existing_Site_Data/scored_locs.csv', delimiter = ';')\n",
    "#     print(f'Site Data found for {len(loc_data)}/{len(coord_data)} locations')\n",
    "# except:\n",
    "#     scored_locs = pd.DataFrame(columns = ['Address', 'Latitude', 'Longitude'] + score_types)\n",
    "#     print('Site data not found')\n",
    "\n",
    "\n",
    "\n",
    "\n",
    "\n",
    "\n",
    "\n"
   ]
  },
  {
   "cell_type": "code",
   "execution_count": 3,
   "metadata": {},
   "outputs": [],
   "source": [
    "\n",
    "from func_timeout import func_timeout, FunctionTimedOut\n",
    "\n",
    "\n"
   ]
  },
  {
   "cell_type": "code",
   "execution_count": 5,
   "metadata": {},
   "outputs": [
    {
     "name": "stdout",
     "output_type": "stream",
     "text": [
      "0 6141 US-127, Eaton, OH 45320\n"
     ]
    },
    {
     "name": "stderr",
     "output_type": "stream",
     "text": [
      "/Users/sampackman/Library/Python/3.9/lib/python/site-packages/shapely/geometry/polygon.py:91: FutureWarning: Calling float on a single element Series is deprecated and will raise a TypeError in the future. Use float(ser.iloc[0]) instead\n",
      "  return [float(c) for c in o]\n",
      "/Users/sampackman/Library/Python/3.9/lib/python/site-packages/shapely/geometry/polygon.py:91: FutureWarning: Calling float on a single element Series is deprecated and will raise a TypeError in the future. Use float(ser.iloc[0]) instead\n",
      "  return [float(c) for c in o]\n",
      "/Users/sampackman/Library/Python/3.9/lib/python/site-packages/shapely/geometry/polygon.py:91: FutureWarning: Calling float on a single element Series is deprecated and will raise a TypeError in the future. Use float(ser.iloc[0]) instead\n",
      "  return [float(c) for c in o]\n",
      "/Users/sampackman/Library/Python/3.9/lib/python/site-packages/shapely/geometry/polygon.py:91: FutureWarning: Calling float on a single element Series is deprecated and will raise a TypeError in the future. Use float(ser.iloc[0]) instead\n",
      "  return [float(c) for c in o]\n",
      "/Users/sampackman/Library/Python/3.9/lib/python/site-packages/shapely/geometry/polygon.py:91: FutureWarning: Calling float on a single element Series is deprecated and will raise a TypeError in the future. Use float(ser.iloc[0]) instead\n",
      "  return [float(c) for c in o]\n",
      "/Users/sampackman/Library/Python/3.9/lib/python/site-packages/shapely/geometry/polygon.py:91: FutureWarning: Calling float on a single element Series is deprecated and will raise a TypeError in the future. Use float(ser.iloc[0]) instead\n",
      "  return [float(c) for c in o]\n"
     ]
    },
    {
     "name": "stdout",
     "output_type": "stream",
     "text": [
      "1 10480 Baltimore Rd SW, Millersport, OH 43046\n"
     ]
    },
    {
     "name": "stderr",
     "output_type": "stream",
     "text": [
      "/Users/sampackman/Library/Python/3.9/lib/python/site-packages/shapely/geometry/polygon.py:91: FutureWarning: Calling float on a single element Series is deprecated and will raise a TypeError in the future. Use float(ser.iloc[0]) instead\n",
      "  return [float(c) for c in o]\n",
      "/Users/sampackman/Library/Python/3.9/lib/python/site-packages/shapely/geometry/polygon.py:91: FutureWarning: Calling float on a single element Series is deprecated and will raise a TypeError in the future. Use float(ser.iloc[0]) instead\n",
      "  return [float(c) for c in o]\n",
      "/Users/sampackman/Library/Python/3.9/lib/python/site-packages/shapely/geometry/polygon.py:91: FutureWarning: Calling float on a single element Series is deprecated and will raise a TypeError in the future. Use float(ser.iloc[0]) instead\n",
      "  return [float(c) for c in o]\n",
      "/Users/sampackman/Library/Python/3.9/lib/python/site-packages/shapely/geometry/polygon.py:91: FutureWarning: Calling float on a single element Series is deprecated and will raise a TypeError in the future. Use float(ser.iloc[0]) instead\n",
      "  return [float(c) for c in o]\n",
      "/Users/sampackman/Library/Python/3.9/lib/python/site-packages/shapely/geometry/polygon.py:91: FutureWarning: Calling float on a single element Series is deprecated and will raise a TypeError in the future. Use float(ser.iloc[0]) instead\n",
      "  return [float(c) for c in o]\n",
      "/Users/sampackman/Library/Python/3.9/lib/python/site-packages/shapely/geometry/polygon.py:91: FutureWarning: Calling float on a single element Series is deprecated and will raise a TypeError in the future. Use float(ser.iloc[0]) instead\n",
      "  return [float(c) for c in o]\n"
     ]
    },
    {
     "name": "stdout",
     "output_type": "stream",
     "text": [
      "2 4929 E Pike, Zanesville, OH 43701\n",
      "4929 E Pike, Zanesville, OH 43701\n",
      "3 44133 Fairground Rd, Caldwell, OH 43724\n"
     ]
    },
    {
     "name": "stderr",
     "output_type": "stream",
     "text": [
      "/Users/sampackman/Library/Python/3.9/lib/python/site-packages/shapely/geometry/polygon.py:91: FutureWarning: Calling float on a single element Series is deprecated and will raise a TypeError in the future. Use float(ser.iloc[0]) instead\n",
      "  return [float(c) for c in o]\n",
      "/Users/sampackman/Library/Python/3.9/lib/python/site-packages/shapely/geometry/polygon.py:91: FutureWarning: Calling float on a single element Series is deprecated and will raise a TypeError in the future. Use float(ser.iloc[0]) instead\n",
      "  return [float(c) for c in o]\n",
      "/Users/sampackman/Library/Python/3.9/lib/python/site-packages/shapely/geometry/polygon.py:91: FutureWarning: Calling float on a single element Series is deprecated and will raise a TypeError in the future. Use float(ser.iloc[0]) instead\n",
      "  return [float(c) for c in o]\n",
      "/Users/sampackman/Library/Python/3.9/lib/python/site-packages/shapely/geometry/polygon.py:91: FutureWarning: Calling float on a single element Series is deprecated and will raise a TypeError in the future. Use float(ser.iloc[0]) instead\n",
      "  return [float(c) for c in o]\n",
      "/Users/sampackman/Library/Python/3.9/lib/python/site-packages/shapely/geometry/polygon.py:91: FutureWarning: Calling float on a single element Series is deprecated and will raise a TypeError in the future. Use float(ser.iloc[0]) instead\n",
      "  return [float(c) for c in o]\n",
      "/Users/sampackman/Library/Python/3.9/lib/python/site-packages/shapely/geometry/polygon.py:91: FutureWarning: Calling float on a single element Series is deprecated and will raise a TypeError in the future. Use float(ser.iloc[0]) instead\n",
      "  return [float(c) for c in o]\n"
     ]
    },
    {
     "name": "stdout",
     "output_type": "stream",
     "text": [
      "4 219 Tallmadge Rd Kent, OH 44240\n"
     ]
    },
    {
     "name": "stderr",
     "output_type": "stream",
     "text": [
      "/Users/sampackman/Library/Python/3.9/lib/python/site-packages/shapely/geometry/polygon.py:91: FutureWarning: Calling float on a single element Series is deprecated and will raise a TypeError in the future. Use float(ser.iloc[0]) instead\n",
      "  return [float(c) for c in o]\n",
      "/Users/sampackman/Library/Python/3.9/lib/python/site-packages/shapely/geometry/polygon.py:91: FutureWarning: Calling float on a single element Series is deprecated and will raise a TypeError in the future. Use float(ser.iloc[0]) instead\n",
      "  return [float(c) for c in o]\n",
      "/Users/sampackman/Library/Python/3.9/lib/python/site-packages/shapely/geometry/polygon.py:91: FutureWarning: Calling float on a single element Series is deprecated and will raise a TypeError in the future. Use float(ser.iloc[0]) instead\n",
      "  return [float(c) for c in o]\n",
      "/Users/sampackman/Library/Python/3.9/lib/python/site-packages/shapely/geometry/polygon.py:91: FutureWarning: Calling float on a single element Series is deprecated and will raise a TypeError in the future. Use float(ser.iloc[0]) instead\n",
      "  return [float(c) for c in o]\n",
      "/Users/sampackman/Library/Python/3.9/lib/python/site-packages/shapely/geometry/polygon.py:91: FutureWarning: Calling float on a single element Series is deprecated and will raise a TypeError in the future. Use float(ser.iloc[0]) instead\n",
      "  return [float(c) for c in o]\n",
      "/Users/sampackman/Library/Python/3.9/lib/python/site-packages/shapely/geometry/polygon.py:91: FutureWarning: Calling float on a single element Series is deprecated and will raise a TypeError in the future. Use float(ser.iloc[0]) instead\n",
      "  return [float(c) for c in o]\n"
     ]
    },
    {
     "name": "stdout",
     "output_type": "stream",
     "text": [
      "5 125 Bluebell Dr SW, New Philadelphia, OH 44663\n"
     ]
    },
    {
     "name": "stderr",
     "output_type": "stream",
     "text": [
      "/Users/sampackman/Library/Python/3.9/lib/python/site-packages/shapely/geometry/polygon.py:91: FutureWarning: Calling float on a single element Series is deprecated and will raise a TypeError in the future. Use float(ser.iloc[0]) instead\n",
      "  return [float(c) for c in o]\n",
      "/Users/sampackman/Library/Python/3.9/lib/python/site-packages/shapely/geometry/polygon.py:91: FutureWarning: Calling float on a single element Series is deprecated and will raise a TypeError in the future. Use float(ser.iloc[0]) instead\n",
      "  return [float(c) for c in o]\n",
      "/Users/sampackman/Library/Python/3.9/lib/python/site-packages/shapely/geometry/polygon.py:91: FutureWarning: Calling float on a single element Series is deprecated and will raise a TypeError in the future. Use float(ser.iloc[0]) instead\n",
      "  return [float(c) for c in o]\n",
      "/Users/sampackman/Library/Python/3.9/lib/python/site-packages/shapely/geometry/polygon.py:91: FutureWarning: Calling float on a single element Series is deprecated and will raise a TypeError in the future. Use float(ser.iloc[0]) instead\n",
      "  return [float(c) for c in o]\n",
      "/Users/sampackman/Library/Python/3.9/lib/python/site-packages/shapely/geometry/polygon.py:91: FutureWarning: Calling float on a single element Series is deprecated and will raise a TypeError in the future. Use float(ser.iloc[0]) instead\n",
      "  return [float(c) for c in o]\n",
      "/Users/sampackman/Library/Python/3.9/lib/python/site-packages/shapely/geometry/polygon.py:91: FutureWarning: Calling float on a single element Series is deprecated and will raise a TypeError in the future. Use float(ser.iloc[0]) instead\n",
      "  return [float(c) for c in o]\n"
     ]
    },
    {
     "name": "stdout",
     "output_type": "stream",
     "text": [
      "6 100 S Dixie Hwy, Cridersville, OH 45806\n"
     ]
    },
    {
     "name": "stderr",
     "output_type": "stream",
     "text": [
      "/Users/sampackman/Library/Python/3.9/lib/python/site-packages/shapely/geometry/polygon.py:91: FutureWarning: Calling float on a single element Series is deprecated and will raise a TypeError in the future. Use float(ser.iloc[0]) instead\n",
      "  return [float(c) for c in o]\n",
      "/Users/sampackman/Library/Python/3.9/lib/python/site-packages/shapely/geometry/polygon.py:91: FutureWarning: Calling float on a single element Series is deprecated and will raise a TypeError in the future. Use float(ser.iloc[0]) instead\n",
      "  return [float(c) for c in o]\n",
      "/Users/sampackman/Library/Python/3.9/lib/python/site-packages/shapely/geometry/polygon.py:91: FutureWarning: Calling float on a single element Series is deprecated and will raise a TypeError in the future. Use float(ser.iloc[0]) instead\n",
      "  return [float(c) for c in o]\n",
      "/Users/sampackman/Library/Python/3.9/lib/python/site-packages/shapely/geometry/polygon.py:91: FutureWarning: Calling float on a single element Series is deprecated and will raise a TypeError in the future. Use float(ser.iloc[0]) instead\n",
      "  return [float(c) for c in o]\n",
      "/Users/sampackman/Library/Python/3.9/lib/python/site-packages/shapely/geometry/polygon.py:91: FutureWarning: Calling float on a single element Series is deprecated and will raise a TypeError in the future. Use float(ser.iloc[0]) instead\n",
      "  return [float(c) for c in o]\n",
      "/Users/sampackman/Library/Python/3.9/lib/python/site-packages/shapely/geometry/polygon.py:91: FutureWarning: Calling float on a single element Series is deprecated and will raise a TypeError in the future. Use float(ser.iloc[0]) instead\n",
      "  return [float(c) for c in o]\n"
     ]
    },
    {
     "name": "stdout",
     "output_type": "stream",
     "text": [
      "7 205 Main St, Byesville, OH 43723\n"
     ]
    },
    {
     "name": "stderr",
     "output_type": "stream",
     "text": [
      "/Users/sampackman/Library/Python/3.9/lib/python/site-packages/shapely/geometry/polygon.py:91: FutureWarning: Calling float on a single element Series is deprecated and will raise a TypeError in the future. Use float(ser.iloc[0]) instead\n",
      "  return [float(c) for c in o]\n",
      "/Users/sampackman/Library/Python/3.9/lib/python/site-packages/shapely/geometry/polygon.py:91: FutureWarning: Calling float on a single element Series is deprecated and will raise a TypeError in the future. Use float(ser.iloc[0]) instead\n",
      "  return [float(c) for c in o]\n",
      "/Users/sampackman/Library/Python/3.9/lib/python/site-packages/shapely/geometry/polygon.py:91: FutureWarning: Calling float on a single element Series is deprecated and will raise a TypeError in the future. Use float(ser.iloc[0]) instead\n",
      "  return [float(c) for c in o]\n",
      "/Users/sampackman/Library/Python/3.9/lib/python/site-packages/shapely/geometry/polygon.py:91: FutureWarning: Calling float on a single element Series is deprecated and will raise a TypeError in the future. Use float(ser.iloc[0]) instead\n",
      "  return [float(c) for c in o]\n",
      "/Users/sampackman/Library/Python/3.9/lib/python/site-packages/shapely/geometry/polygon.py:91: FutureWarning: Calling float on a single element Series is deprecated and will raise a TypeError in the future. Use float(ser.iloc[0]) instead\n",
      "  return [float(c) for c in o]\n"
     ]
    }
   ],
   "source": [
    "\n",
    "\n",
    "\n",
    "scored_locs = pd.DataFrame(columns = ['Address', 'Latitude', 'Longitude'] + score_types)\n",
    "exc_record = pd.DataFrame(columns=['Address', 'Exceptions'])\n",
    "\n",
    "for i, addr in enumerate(addresses):\n",
    "    \n",
    "    print(i, addr)\n",
    "    \n",
    "\n",
    "\n",
    "    if addr not in scored_locs['Address'].values:\n",
    "\n",
    "        try:\n",
    "            score, exc = func_timeout(30, get_info, args = (addr,))\n",
    "            if score is None:\n",
    "                exc_record.loc[len(exc_record)] = pd.Series({'Address': addr, 'Exceptions': exc})\n",
    "            scored_locs.loc[len(scored_locs)] = pd.concat([pd.Series({'Address': addr}), score])\n",
    "\n",
    "        except Exception as exc:\n",
    "            print(exc)\n",
    "            exc_record.loc[len(exc_record)] = pd.Series({'Address': addr, 'Exceptions': exc})\n",
    "\n",
    "\n",
    "        \n",
    "    "
   ]
  },
  {
   "cell_type": "code",
   "execution_count": null,
   "metadata": {},
   "outputs": [],
   "source": [
    "\n",
    "scored_locs.to_csv('scored_locs.csv', sep = ';', columns= scored_locs.keys(), index = False)\n",
    "exc_record.to_csv('score_call_exceps.csv', sep = ';', columns= exc_record.keys(), index = False)\n",
    "\n",
    "\n",
    "# scored_locs = pd.DataFrame(columns = ['Address', 'Latitude', 'Longitude'] + score_types)\n",
    "# exc_record = pd.DataFrame(columns=['Address', 'Exceptions'])\n",
    "\n",
    "# for i, addr in enumerate(addresses):\n",
    "    \n",
    "#     print(i)\n",
    "    \n",
    "\n",
    "\n",
    "#     if addr not in scored_locs['Address'].values:\n",
    "\n",
    "#         try:\n",
    "#             score, exc = get_info(addr)\n",
    "#             if score is None:\n",
    "#                 exc_record.loc[len(exc_record)] = pd.Series({'Address': addr, 'Exceptions': exc})\n",
    "#             scored_locs.loc[len(scored_locs)] = pd.concat([pd.Series({'Address': addr}), score])\n",
    "\n",
    "#         except Exception as exc:\n",
    "#             exc_record.loc[len(exc_record)] = pd.Series({'Address': addr, 'Exceptions': exc})\n",
    "\n",
    "\n",
    "        \n",
    "        \n",
    "       \n",
    "# scored_locs.to_csv('scored_locs.csv', sep = ';', columns= ['Address', 'Latitude', 'Longitude'] + score_types, index = False)\n",
    "# exc_record.to_csv('score_call_exceps.csv', sep = ';', columns= ['Address', 'Latitude', 'Longitude'] + score_types, index = False)\n"
   ]
  },
  {
   "cell_type": "code",
   "execution_count": null,
   "metadata": {},
   "outputs": [],
   "source": []
  },
  {
   "cell_type": "code",
   "execution_count": null,
   "metadata": {},
   "outputs": [],
   "source": [
    "scored_locs = pd.DataFrame(columns = ['Address', 'Latitude', 'Longitude'] + score_types)\n",
    "exc_record = pd.DataFrame(columns=['Address', 'Exceptions'])\n",
    "\n",
    "for i, addr in enumerate(addresses):\n",
    "    \n",
    "    print(i)\n",
    "    print(addr)\n",
    "\n",
    "\n",
    "    if addr not in scored_locs['Address'].values:\n",
    "\n",
    "        try:\n",
    "            score, exc = get_info(addr)\n",
    "            if score is None:\n",
    "                exc_record.loc[len(exc_record)] = pd.Series({'Address': addr, 'Exceptions': exc})\n",
    "            scored_locs.loc[len(scored_locs)] = pd.concat([pd.Series({'Address': addr}), score])\n",
    "\n",
    "        except Exception as exc:\n",
    "            exc_record.loc[len(exc_record)] = pd.Series({'Address': addr, 'Exceptions': exc})\n",
    "\n",
    "\n",
    "        \n",
    "        \n",
    "       \n",
    "scored_locs.to_csv('scored_locs.csv', sep = ';', columns= ['Address', 'Latitude', 'Longitude'] + score_types, index = False)\n",
    "exc_record.to_csv('score_call_exceps.csv', sep = ';', columns= ['Address', 'Latitude', 'Longitude'] + score_types, index = False)\n"
   ]
  },
  {
   "cell_type": "code",
   "execution_count": null,
   "metadata": {},
   "outputs": [],
   "source": [
    "scored_locs = pd.DataFrame(columns = ['Address', 'Latitude', 'Longitude'] + score_types)\n",
    "exc_record = pd.DataFrame(columns=['Address', 'Exceptions'])\n",
    "\n",
    "for i, addr in enumerate(addresses):\n",
    "    \n",
    "    print(i)\n",
    "    \n",
    "\n",
    "\n",
    "    if addr not in scored_locs['Address'].values:\n",
    "\n",
    "        try:\n",
    "            score, exc = get_info(addr)\n",
    "            if score is None:\n",
    "                exc_record.loc[len(exc_record)] = pd.Series({'Address': addr, 'Exceptions': exc})\n",
    "            scored_locs.loc[len(scored_locs)] = pd.concat([pd.Series({'Address': addr}), score])\n",
    "\n",
    "        except Exception as exc:\n",
    "            exc_record.loc[len(exc_record)] = pd.Series({'Address': addr, 'Exceptions': exc})\n",
    "\n",
    "\n",
    "        \n",
    "        \n",
    "       \n",
    "scored_locs.to_csv('scored_locs.csv', sep = ';', columns= ['Address', 'Latitude', 'Longitude'] + score_types, index = False)\n",
    "exc_record.to_csv('score_call_exceps.csv', sep = ';', columns= ['Address', 'Latitude', 'Longitude'] + score_types, index = False)\n"
   ]
  },
  {
   "cell_type": "code",
   "execution_count": null,
   "metadata": {},
   "outputs": [],
   "source": [
    "scored_locs = pd.DataFrame(columns = ['Address', 'Latitude', 'Longitude'] + score_types)\n",
    "exc_record = pd.DataFrame(columns=['Address', 'Exceptions'])\n",
    "\n",
    "for i, addr in enumerate(addresses):\n",
    "    \n",
    "    print(i)\n",
    "    \n",
    "\n",
    "\n",
    "    if addr not in scored_locs['Address'].values:\n",
    "\n",
    "        try:\n",
    "            score, exc = get_info(addr)\n",
    "            if score is None:\n",
    "                exc_record.loc[len(exc_record)] = pd.Series({'Address': addr, 'Exceptions': exc})\n",
    "            scored_locs.loc[len(scored_locs)] = pd.concat([pd.Series({'Address': addr}), score])\n",
    "\n",
    "        except Exception as exc:\n",
    "            exc_record.loc[len(exc_record)] = pd.Series({'Address': addr, 'Exceptions': exc})\n",
    "\n",
    "\n",
    "        \n",
    "        \n",
    "       \n",
    "scored_locs.to_csv('scored_locs.csv', sep = ';', columns= ['Address', 'Latitude', 'Longitude'] + score_types, index = False)\n",
    "exc_record.to_csv('score_call_exceps.csv', sep = ';', columns= ['Address', 'Latitude', 'Longitude'] + score_types, index = False)\n"
   ]
  },
  {
   "cell_type": "code",
   "execution_count": null,
   "metadata": {},
   "outputs": [],
   "source": [
    "print(scored_locs)"
   ]
  },
  {
   "cell_type": "code",
   "execution_count": null,
   "metadata": {},
   "outputs": [],
   "source": [
    "get_info((39.7400159, -84.6364412))"
   ]
  }
 ],
 "metadata": {
  "kernelspec": {
   "display_name": "Python 3",
   "language": "python",
   "name": "python3"
  },
  "language_info": {
   "codemirror_mode": {
    "name": "ipython",
    "version": 3
   },
   "file_extension": ".py",
   "mimetype": "text/x-python",
   "name": "python",
   "nbconvert_exporter": "python",
   "pygments_lexer": "ipython3",
   "version": "3.9.6"
  }
 },
 "nbformat": 4,
 "nbformat_minor": 2
}
