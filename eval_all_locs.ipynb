{
 "cells": [
  {
   "cell_type": "code",
   "execution_count": 15,
   "metadata": {},
   "outputs": [],
   "source": [
    "from site_data_utils.site_analysis import get_info\n",
    "# from Existing_Site_Data.geocode_sites import loc_data\n",
    "import pandas as pd\n",
    "import math\n",
    "import osmnx as ox\n"
   ]
  },
  {
   "cell_type": "code",
   "execution_count": 16,
   "metadata": {},
   "outputs": [],
   "source": [
    "\n",
    "# coord_data = pd.read_csv('Existing_Site_Data/site_coords.csv', delimiter = ';')\n",
    "addresses = pd.read_csv('Existing_Site_Data/NEVI Project Site Locations - 5_23_24 Update.csv')['Address']\n",
    "\n",
    "\n",
    "score_types = ['PM2.5 in the air (percentile)',\n",
    "       'PM2.5 in the air', 'Diesel particulate matter exposure (percentile)',\n",
    "       'Diesel particulate matter exposure',\n",
    "       'Traffic proximity and volume (percentile)',\n",
    "       'Traffic proximity and volume',\n",
    "       'DOT Travel Barriers Score (percentile)',\n",
    "       'Greater than or equal to the 90th percentile for housing burden and is low income?',\n",
    "       'Tract experienced historic underinvestment and remains low income',\n",
    "       'Tract experienced historic underinvestment',\n",
    "       'Number People in Census Tract', 'Single Dwelling Home',\n",
    "       '2+ Dwelling or Unconventional Home', 'Income of surrounding areas',\n",
    "       'Estimated cost of transportation', 'Cost burden for transportation',\n",
    "       'Proportion of households without vehicles',\n",
    "       'Walk times to…Adult Education', 'Grocery Stores', 'Medical Facilities',\n",
    "       'Parks', 'Primary Schools', 'Drive times to…Adult Education',\n",
    "       'Traffic fatalities per 100,000 people', 'Energy Burden (% income)',\n",
    "       'Avg. Annual Energy Cost ($)', 'Total Households', 'Household Income',\n",
    "       'Maxspeed (mph)', 'Likelihood Pedestrian Death in Collision (%)',\n",
    "       'amenities', 'bus stops', 'bike rentals', 'subway stations',\n",
    "       'Number of Stations', 'ev_dc_fast_num', 'ev_level1_evse_num',\n",
    "       'ev_level2_evse_num']\n",
    "try:\n",
    "    scored_locs = pd.read_csv('scored_locs.csv', delimiter = ';')\n",
    "    exc_record = pd.read_csv('score_call_exceps.csv', delimiter = ';')\n",
    "#     print(f'Site Data found for {len(loc_data)}/{len(coord_data)} locations')\n",
    "except:\n",
    "    scored_locs = pd.DataFrame(columns = ['Address', 'Latitude', 'Longitude'] + score_types)\n",
    "    exc_record = pd.DataFrame(columns=['Address', 'Exceptions'])\n",
    "\n",
    "    print('Site data not found')\n",
    "\n",
    "\n",
    "\n",
    "\n",
    "\n",
    "\n",
    "\n"
   ]
  },
  {
   "cell_type": "code",
   "execution_count": 19,
   "metadata": {},
   "outputs": [],
   "source": [
    "\n",
    "from func_timeout import func_timeout, FunctionTimedOut\n",
    "import time\n",
    "\n"
   ]
  },
  {
   "cell_type": "code",
   "execution_count": null,
   "metadata": {},
   "outputs": [],
   "source": [
    "\n",
    "\n",
    "\n",
    "\n",
    "for i, addr in enumerate(addresses):\n",
    "    \n",
    "    print(i, addr)\n",
    "    \n",
    "\n",
    "\n",
    "    if addr not in scored_locs['Address'].values:\n",
    "\n",
    "        try:\n",
    "            score, exc = func_timeout(30, get_info, args = (addr,))\n",
    "            print(score)\n",
    "\n",
    "            if score is None:\n",
    "                exc_record.loc[len(exc_record)] = pd.Series({'Address': addr, 'Exceptions': exc})\n",
    "            else:\n",
    "                scored_locs.loc[len(scored_locs)] = pd.concat([pd.Series({'Address': addr}), score])\n",
    "\n",
    "        except Exception as exc:\n",
    "            print(exc)\n",
    "            exc_record.loc[len(exc_record)] = pd.Series({'Address': addr, 'Exceptions': exc})\n",
    "\n",
    "\n",
    "        \n",
    "    "
   ]
  },
  {
   "cell_type": "code",
   "execution_count": 12,
   "metadata": {},
   "outputs": [],
   "source": [
    "\n",
    "# scored_locs.to_csv('scored_locs.csv', sep = ';', columns= scored_locs.keys(), index = False)\n",
    "# exc_record.to_csv('score_call_exceps.csv', sep = ';', columns= exc_record.keys(), index = False)\n",
    "\n",
    "\n",
    "# # scored_locs = pd.DataFrame(columns = ['Address', 'Latitude', 'Longitude'] + score_types)\n",
    "# # exc_record = pd.DataFrame(columns=['Address', 'Exceptions'])\n",
    "\n",
    "# # for i, addr in enumerate(addresses):\n",
    "    \n",
    "# #     print(i)\n",
    "    \n",
    "\n",
    "\n",
    "# #     if addr not in scored_locs['Address'].values:\n",
    "\n",
    "# #         try:\n",
    "# #             score, exc = get_info(addr)\n",
    "# #             if score is None:\n",
    "# #                 exc_record.loc[len(exc_record)] = pd.Series({'Address': addr, 'Exceptions': exc})\n",
    "# #             scored_locs.loc[len(scored_locs)] = pd.concat([pd.Series({'Address': addr}), score])\n",
    "\n",
    "# #         except Exception as exc:\n",
    "# #             exc_record.loc[len(exc_record)] = pd.Series({'Address': addr, 'Exceptions': exc})\n",
    "\n",
    "\n",
    "        \n",
    "        \n",
    "       \n",
    "# # scored_locs.to_csv('scored_locs.csv', sep = ';', columns= ['Address', 'Latitude', 'Longitude'] + score_types, index = False)\n",
    "# # exc_record.to_csv('score_call_exceps.csv', sep = ';', columns= ['Address', 'Latitude', 'Longitude'] + score_types, index = False)\n"
   ]
  },
  {
   "cell_type": "code",
   "execution_count": 13,
   "metadata": {},
   "outputs": [
    {
     "data": {
      "text/plain": [
       "Index(['Address', 'Latitude', 'Longitude', 'PM2.5 in the air (percentile)',\n",
       "       'PM2.5 in the air', 'Diesel particulate matter exposure (percentile)',\n",
       "       'Diesel particulate matter exposure',\n",
       "       'Traffic proximity and volume (percentile)',\n",
       "       'Traffic proximity and volume',\n",
       "       'DOT Travel Barriers Score (percentile)',\n",
       "       'Greater than or equal to the 90th percentile for housing burden and is low income?',\n",
       "       'Tract experienced historic underinvestment and remains low income',\n",
       "       'Tract experienced historic underinvestment',\n",
       "       'Number People in Census Tract', 'Single Dwelling Home',\n",
       "       '2+ Dwelling or Unconventional Home', 'Income of surrounding areas',\n",
       "       'Estimated cost of transportation', 'Cost burden for transportation',\n",
       "       'Proportion of households without vehicles',\n",
       "       'Walk times to…Adult Education', 'Grocery Stores', 'Medical Facilities',\n",
       "       'Parks', 'Primary Schools', 'Drive times to…Adult Education',\n",
       "       'Traffic fatalities per 100,000 people', 'Energy Burden (% income)',\n",
       "       'Avg. Annual Energy Cost ($)', 'Total Households', 'Household Income',\n",
       "       'Maxspeed (mph)', 'Likelihood Pedestrian Death in Collision (%)',\n",
       "       'amenities', 'bus stops', 'bike rentals', 'subway stations',\n",
       "       'Number of Stations', 'ev_dc_fast_num', 'ev_level1_evse_num',\n",
       "       'ev_level2_evse_num'],\n",
       "      dtype='object')"
      ]
     },
     "execution_count": 13,
     "metadata": {},
     "output_type": "execute_result"
    }
   ],
   "source": [
    "scored_locs.keys()"
   ]
  },
  {
   "cell_type": "code",
   "execution_count": 14,
   "metadata": {},
   "outputs": [
    {
     "data": {
      "text/plain": [
       "Series([], Name: amenities, dtype: object)"
      ]
     },
     "execution_count": 14,
     "metadata": {},
     "output_type": "execute_result"
    }
   ],
   "source": [
    "import matplotlib.pyplot as plt \n",
    "scored_locs['amenities']"
   ]
  },
  {
   "cell_type": "code",
   "execution_count": null,
   "metadata": {},
   "outputs": [
    {
     "name": "stdout",
     "output_type": "stream",
     "text": [
      "0\n",
      "6141 US-127, Eaton, OH 45320\n"
     ]
    },
    {
     "name": "stderr",
     "output_type": "stream",
     "text": [
      "/Users/sampackman/Library/Python/3.9/lib/python/site-packages/shapely/geometry/polygon.py:91: FutureWarning: Calling float on a single element Series is deprecated and will raise a TypeError in the future. Use float(ser.iloc[0]) instead\n",
      "  return [float(c) for c in o]\n",
      "/Users/sampackman/Library/Python/3.9/lib/python/site-packages/shapely/geometry/polygon.py:91: FutureWarning: Calling float on a single element Series is deprecated and will raise a TypeError in the future. Use float(ser.iloc[0]) instead\n",
      "  return [float(c) for c in o]\n",
      "/Users/sampackman/Library/Python/3.9/lib/python/site-packages/shapely/geometry/polygon.py:91: FutureWarning: Calling float on a single element Series is deprecated and will raise a TypeError in the future. Use float(ser.iloc[0]) instead\n",
      "  return [float(c) for c in o]\n",
      "/Users/sampackman/Library/Python/3.9/lib/python/site-packages/shapely/geometry/polygon.py:91: FutureWarning: Calling float on a single element Series is deprecated and will raise a TypeError in the future. Use float(ser.iloc[0]) instead\n",
      "  return [float(c) for c in o]\n",
      "/Users/sampackman/Library/Python/3.9/lib/python/site-packages/shapely/geometry/polygon.py:91: FutureWarning: Calling float on a single element Series is deprecated and will raise a TypeError in the future. Use float(ser.iloc[0]) instead\n",
      "  return [float(c) for c in o]\n",
      "/Users/sampackman/Library/Python/3.9/lib/python/site-packages/shapely/geometry/polygon.py:91: FutureWarning: Calling float on a single element Series is deprecated and will raise a TypeError in the future. Use float(ser.iloc[0]) instead\n",
      "  return [float(c) for c in o]\n"
     ]
    },
    {
     "name": "stdout",
     "output_type": "stream",
     "text": [
      "1\n",
      "10480 Baltimore Rd SW, Millersport, OH 43046\n"
     ]
    },
    {
     "name": "stderr",
     "output_type": "stream",
     "text": [
      "/Users/sampackman/Library/Python/3.9/lib/python/site-packages/shapely/geometry/polygon.py:91: FutureWarning: Calling float on a single element Series is deprecated and will raise a TypeError in the future. Use float(ser.iloc[0]) instead\n",
      "  return [float(c) for c in o]\n",
      "/Users/sampackman/Library/Python/3.9/lib/python/site-packages/shapely/geometry/polygon.py:91: FutureWarning: Calling float on a single element Series is deprecated and will raise a TypeError in the future. Use float(ser.iloc[0]) instead\n",
      "  return [float(c) for c in o]\n",
      "/Users/sampackman/Library/Python/3.9/lib/python/site-packages/shapely/geometry/polygon.py:91: FutureWarning: Calling float on a single element Series is deprecated and will raise a TypeError in the future. Use float(ser.iloc[0]) instead\n",
      "  return [float(c) for c in o]\n",
      "/Users/sampackman/Library/Python/3.9/lib/python/site-packages/shapely/geometry/polygon.py:91: FutureWarning: Calling float on a single element Series is deprecated and will raise a TypeError in the future. Use float(ser.iloc[0]) instead\n",
      "  return [float(c) for c in o]\n",
      "/Users/sampackman/Library/Python/3.9/lib/python/site-packages/shapely/geometry/polygon.py:91: FutureWarning: Calling float on a single element Series is deprecated and will raise a TypeError in the future. Use float(ser.iloc[0]) instead\n",
      "  return [float(c) for c in o]\n",
      "/Users/sampackman/Library/Python/3.9/lib/python/site-packages/shapely/geometry/polygon.py:91: FutureWarning: Calling float on a single element Series is deprecated and will raise a TypeError in the future. Use float(ser.iloc[0]) instead\n",
      "  return [float(c) for c in o]\n"
     ]
    },
    {
     "name": "stdout",
     "output_type": "stream",
     "text": [
      "2\n",
      "4929 E Pike, Zanesville, OH 43701\n",
      "4929 E Pike, Zanesville, OH 43701\n"
     ]
    },
    {
     "ename": "KeyboardInterrupt",
     "evalue": "",
     "output_type": "error",
     "traceback": [
      "\u001b[0;31m---------------------------------------------------------------------------\u001b[0m",
      "\u001b[0;31mKeyboardInterrupt\u001b[0m                         Traceback (most recent call last)",
      "Cell \u001b[0;32mIn[11], line 13\u001b[0m\n\u001b[1;32m     10\u001b[0m \u001b[38;5;28;01mif\u001b[39;00m addr \u001b[38;5;129;01mnot\u001b[39;00m \u001b[38;5;129;01min\u001b[39;00m scored_locs[\u001b[38;5;124m'\u001b[39m\u001b[38;5;124mAddress\u001b[39m\u001b[38;5;124m'\u001b[39m]\u001b[38;5;241m.\u001b[39mvalues:\n\u001b[1;32m     12\u001b[0m     \u001b[38;5;28;01mtry\u001b[39;00m:\n\u001b[0;32m---> 13\u001b[0m         score, exc \u001b[38;5;241m=\u001b[39m \u001b[43mget_info\u001b[49m\u001b[43m(\u001b[49m\u001b[43maddr\u001b[49m\u001b[43m)\u001b[49m\n\u001b[1;32m     14\u001b[0m         \u001b[38;5;28;01mif\u001b[39;00m score \u001b[38;5;129;01mis\u001b[39;00m \u001b[38;5;28;01mNone\u001b[39;00m:\n\u001b[1;32m     15\u001b[0m             exc_record\u001b[38;5;241m.\u001b[39mloc[\u001b[38;5;28mlen\u001b[39m(exc_record)] \u001b[38;5;241m=\u001b[39m pd\u001b[38;5;241m.\u001b[39mSeries({\u001b[38;5;124m'\u001b[39m\u001b[38;5;124mAddress\u001b[39m\u001b[38;5;124m'\u001b[39m: addr, \u001b[38;5;124m'\u001b[39m\u001b[38;5;124mExceptions\u001b[39m\u001b[38;5;124m'\u001b[39m: exc})\n",
      "File \u001b[0;32m~/Documents/ev_charging_analysis/site_data_utils/site_analysis.py:51\u001b[0m, in \u001b[0;36mget_info\u001b[0;34m(location_, output, debug)\u001b[0m\n\u001b[1;32m     47\u001b[0m     location \u001b[38;5;241m=\u001b[39m location_\n\u001b[1;32m     49\u001b[0m     address_info \u001b[38;5;241m=\u001b[39m pd\u001b[38;5;241m.\u001b[39mSeries({\u001b[38;5;124m'\u001b[39m\u001b[38;5;124mLatitude\u001b[39m\u001b[38;5;124m'\u001b[39m: location[\u001b[38;5;241m0\u001b[39m], \u001b[38;5;124m'\u001b[39m\u001b[38;5;124mLongitude\u001b[39m\u001b[38;5;124m'\u001b[39m: location[\u001b[38;5;241m1\u001b[39m]})\n\u001b[0;32m---> 51\u001b[0m G \u001b[38;5;241m=\u001b[39m \u001b[43mox\u001b[49m\u001b[38;5;241;43m.\u001b[39;49m\u001b[43mgraph_from_point\u001b[49m\u001b[43m(\u001b[49m\u001b[43mcenter_point\u001b[49m\u001b[43m \u001b[49m\u001b[38;5;241;43m=\u001b[39;49m\u001b[43m \u001b[49m\u001b[43mlocation\u001b[49m\u001b[43m,\u001b[49m\u001b[43m \u001b[49m\u001b[43mdist\u001b[49m\u001b[43m \u001b[49m\u001b[38;5;241;43m=\u001b[39;49m\u001b[43m \u001b[49m\u001b[43mWALK_DIST\u001b[49m\u001b[43m,\u001b[49m\u001b[43m \u001b[49m\u001b[43mnetwork_type\u001b[49m\u001b[38;5;241;43m=\u001b[39;49m\u001b[43m \u001b[49m\u001b[38;5;124;43m'\u001b[39;49m\u001b[38;5;124;43mwalk\u001b[39;49m\u001b[38;5;124;43m'\u001b[39;49m\u001b[43m)\u001b[49m\n\u001b[1;32m     52\u001b[0m \u001b[38;5;66;03m#creates osmnx graph of nearby walking network\u001b[39;00m\n\u001b[1;32m     54\u001b[0m tract_data \u001b[38;5;241m=\u001b[39m census_tract_data(location, debug \u001b[38;5;241m=\u001b[39m debug)\n",
      "File \u001b[0;32m~/Library/Python/3.9/lib/python/site-packages/osmnx/graph.py:185\u001b[0m, in \u001b[0;36mgraph_from_point\u001b[0;34m(center_point, dist, dist_type, network_type, simplify, retain_all, truncate_by_edge, clean_periphery, custom_filter)\u001b[0m\n\u001b[1;32m    182\u001b[0m bbox \u001b[38;5;241m=\u001b[39m utils_geo\u001b[38;5;241m.\u001b[39mbbox_from_point(center_point, dist)\n\u001b[1;32m    184\u001b[0m \u001b[38;5;66;03m# create a graph from the bounding box\u001b[39;00m\n\u001b[0;32m--> 185\u001b[0m G \u001b[38;5;241m=\u001b[39m \u001b[43mgraph_from_bbox\u001b[49m\u001b[43m(\u001b[49m\n\u001b[1;32m    186\u001b[0m \u001b[43m    \u001b[49m\u001b[43mbbox\u001b[49m\u001b[38;5;241;43m=\u001b[39;49m\u001b[43mbbox\u001b[49m\u001b[43m,\u001b[49m\n\u001b[1;32m    187\u001b[0m \u001b[43m    \u001b[49m\u001b[43mnetwork_type\u001b[49m\u001b[38;5;241;43m=\u001b[39;49m\u001b[43mnetwork_type\u001b[49m\u001b[43m,\u001b[49m\n\u001b[1;32m    188\u001b[0m \u001b[43m    \u001b[49m\u001b[43msimplify\u001b[49m\u001b[38;5;241;43m=\u001b[39;49m\u001b[43msimplify\u001b[49m\u001b[43m,\u001b[49m\n\u001b[1;32m    189\u001b[0m \u001b[43m    \u001b[49m\u001b[43mretain_all\u001b[49m\u001b[38;5;241;43m=\u001b[39;49m\u001b[43mretain_all\u001b[49m\u001b[43m,\u001b[49m\n\u001b[1;32m    190\u001b[0m \u001b[43m    \u001b[49m\u001b[43mtruncate_by_edge\u001b[49m\u001b[38;5;241;43m=\u001b[39;49m\u001b[43mtruncate_by_edge\u001b[49m\u001b[43m,\u001b[49m\n\u001b[1;32m    191\u001b[0m \u001b[43m    \u001b[49m\u001b[43mclean_periphery\u001b[49m\u001b[38;5;241;43m=\u001b[39;49m\u001b[43mclean_periphery\u001b[49m\u001b[43m,\u001b[49m\n\u001b[1;32m    192\u001b[0m \u001b[43m    \u001b[49m\u001b[43mcustom_filter\u001b[49m\u001b[38;5;241;43m=\u001b[39;49m\u001b[43mcustom_filter\u001b[49m\u001b[43m,\u001b[49m\n\u001b[1;32m    193\u001b[0m \u001b[43m\u001b[49m\u001b[43m)\u001b[49m\n\u001b[1;32m    195\u001b[0m \u001b[38;5;28;01mif\u001b[39;00m dist_type \u001b[38;5;241m==\u001b[39m \u001b[38;5;124m\"\u001b[39m\u001b[38;5;124mnetwork\u001b[39m\u001b[38;5;124m\"\u001b[39m:\n\u001b[1;32m    196\u001b[0m     \u001b[38;5;66;03m# if dist_type is network, find node in graph nearest to center point\u001b[39;00m\n\u001b[1;32m    197\u001b[0m     \u001b[38;5;66;03m# then truncate graph by network dist from it\u001b[39;00m\n\u001b[1;32m    198\u001b[0m     node \u001b[38;5;241m=\u001b[39m distance\u001b[38;5;241m.\u001b[39mnearest_nodes(G, X\u001b[38;5;241m=\u001b[39m[center_point[\u001b[38;5;241m1\u001b[39m]], Y\u001b[38;5;241m=\u001b[39m[center_point[\u001b[38;5;241m0\u001b[39m]])[\u001b[38;5;241m0\u001b[39m]\n",
      "File \u001b[0;32m~/Library/Python/3.9/lib/python/site-packages/osmnx/graph.py:106\u001b[0m, in \u001b[0;36mgraph_from_bbox\u001b[0;34m(north, south, east, west, bbox, network_type, simplify, retain_all, truncate_by_edge, clean_periphery, custom_filter)\u001b[0m\n\u001b[1;32m    103\u001b[0m polygon \u001b[38;5;241m=\u001b[39m utils_geo\u001b[38;5;241m.\u001b[39mbbox_to_poly(bbox\u001b[38;5;241m=\u001b[39mbbox)\n\u001b[1;32m    105\u001b[0m \u001b[38;5;66;03m# create graph using this polygon geometry\u001b[39;00m\n\u001b[0;32m--> 106\u001b[0m G \u001b[38;5;241m=\u001b[39m \u001b[43mgraph_from_polygon\u001b[49m\u001b[43m(\u001b[49m\n\u001b[1;32m    107\u001b[0m \u001b[43m    \u001b[49m\u001b[43mpolygon\u001b[49m\u001b[43m,\u001b[49m\n\u001b[1;32m    108\u001b[0m \u001b[43m    \u001b[49m\u001b[43mnetwork_type\u001b[49m\u001b[38;5;241;43m=\u001b[39;49m\u001b[43mnetwork_type\u001b[49m\u001b[43m,\u001b[49m\n\u001b[1;32m    109\u001b[0m \u001b[43m    \u001b[49m\u001b[43msimplify\u001b[49m\u001b[38;5;241;43m=\u001b[39;49m\u001b[43msimplify\u001b[49m\u001b[43m,\u001b[49m\n\u001b[1;32m    110\u001b[0m \u001b[43m    \u001b[49m\u001b[43mretain_all\u001b[49m\u001b[38;5;241;43m=\u001b[39;49m\u001b[43mretain_all\u001b[49m\u001b[43m,\u001b[49m\n\u001b[1;32m    111\u001b[0m \u001b[43m    \u001b[49m\u001b[43mtruncate_by_edge\u001b[49m\u001b[38;5;241;43m=\u001b[39;49m\u001b[43mtruncate_by_edge\u001b[49m\u001b[43m,\u001b[49m\n\u001b[1;32m    112\u001b[0m \u001b[43m    \u001b[49m\u001b[43mclean_periphery\u001b[49m\u001b[38;5;241;43m=\u001b[39;49m\u001b[43mclean_periphery\u001b[49m\u001b[43m,\u001b[49m\n\u001b[1;32m    113\u001b[0m \u001b[43m    \u001b[49m\u001b[43mcustom_filter\u001b[49m\u001b[38;5;241;43m=\u001b[39;49m\u001b[43mcustom_filter\u001b[49m\u001b[43m,\u001b[49m\n\u001b[1;32m    114\u001b[0m \u001b[43m\u001b[49m\u001b[43m)\u001b[49m\n\u001b[1;32m    116\u001b[0m utils\u001b[38;5;241m.\u001b[39mlog(\u001b[38;5;124mf\u001b[39m\u001b[38;5;124m\"\u001b[39m\u001b[38;5;124mgraph_from_bbox returned graph with \u001b[39m\u001b[38;5;132;01m{\u001b[39;00m\u001b[38;5;28mlen\u001b[39m(G)\u001b[38;5;132;01m:\u001b[39;00m\u001b[38;5;124m,\u001b[39m\u001b[38;5;132;01m}\u001b[39;00m\u001b[38;5;124m nodes and \u001b[39m\u001b[38;5;132;01m{\u001b[39;00m\u001b[38;5;28mlen\u001b[39m(G\u001b[38;5;241m.\u001b[39medges)\u001b[38;5;132;01m:\u001b[39;00m\u001b[38;5;124m,\u001b[39m\u001b[38;5;132;01m}\u001b[39;00m\u001b[38;5;124m edges\u001b[39m\u001b[38;5;124m\"\u001b[39m)\n\u001b[1;32m    117\u001b[0m \u001b[38;5;28;01mreturn\u001b[39;00m G\n",
      "File \u001b[0;32m~/Library/Python/3.9/lib/python/site-packages/osmnx/graph.py:498\u001b[0m, in \u001b[0;36mgraph_from_polygon\u001b[0;34m(polygon, network_type, simplify, retain_all, truncate_by_edge, clean_periphery, custom_filter)\u001b[0m\n\u001b[1;32m    496\u001b[0m \u001b[38;5;66;03m# create buffered graph from the downloaded data\u001b[39;00m\n\u001b[1;32m    497\u001b[0m bidirectional \u001b[38;5;241m=\u001b[39m network_type \u001b[38;5;129;01min\u001b[39;00m settings\u001b[38;5;241m.\u001b[39mbidirectional_network_types\n\u001b[0;32m--> 498\u001b[0m G_buff \u001b[38;5;241m=\u001b[39m \u001b[43m_create_graph\u001b[49m\u001b[43m(\u001b[49m\u001b[43mresponse_jsons\u001b[49m\u001b[43m,\u001b[49m\u001b[43m \u001b[49m\u001b[43mretain_all\u001b[49m\u001b[38;5;241;43m=\u001b[39;49m\u001b[38;5;28;43;01mTrue\u001b[39;49;00m\u001b[43m,\u001b[49m\u001b[43m \u001b[49m\u001b[43mbidirectional\u001b[49m\u001b[38;5;241;43m=\u001b[39;49m\u001b[43mbidirectional\u001b[49m\u001b[43m)\u001b[49m\n\u001b[1;32m    500\u001b[0m \u001b[38;5;66;03m# truncate buffered graph to the buffered polygon and retain_all for\u001b[39;00m\n\u001b[1;32m    501\u001b[0m \u001b[38;5;66;03m# now. needed because overpass returns entire ways that also include\u001b[39;00m\n\u001b[1;32m    502\u001b[0m \u001b[38;5;66;03m# nodes outside the poly if the way (that is, a way with a single OSM\u001b[39;00m\n\u001b[1;32m    503\u001b[0m \u001b[38;5;66;03m# ID) has a node inside the poly at some point.\u001b[39;00m\n\u001b[1;32m    504\u001b[0m G_buff \u001b[38;5;241m=\u001b[39m truncate\u001b[38;5;241m.\u001b[39mtruncate_graph_polygon(G_buff, poly_buff, \u001b[38;5;28;01mTrue\u001b[39;00m, truncate_by_edge)\n",
      "File \u001b[0;32m~/Library/Python/3.9/lib/python/site-packages/osmnx/graph.py:626\u001b[0m, in \u001b[0;36m_create_graph\u001b[0;34m(response_jsons, retain_all, bidirectional)\u001b[0m\n\u001b[1;32m    623\u001b[0m paths \u001b[38;5;241m=\u001b[39m {}\n\u001b[1;32m    625\u001b[0m \u001b[38;5;66;03m# consume response_jsons generator to download data from server\u001b[39;00m\n\u001b[0;32m--> 626\u001b[0m \u001b[38;5;28;01mfor\u001b[39;00m response_json \u001b[38;5;129;01min\u001b[39;00m response_jsons:\n\u001b[1;32m    627\u001b[0m     response_count \u001b[38;5;241m+\u001b[39m\u001b[38;5;241m=\u001b[39m \u001b[38;5;241m1\u001b[39m\n\u001b[1;32m    629\u001b[0m     \u001b[38;5;66;03m# if cache_only_mode, consume response_jsons then continue next loop\u001b[39;00m\n",
      "File \u001b[0;32m~/Library/Python/3.9/lib/python/site-packages/osmnx/_overpass.py:362\u001b[0m, in \u001b[0;36m_download_overpass_network\u001b[0;34m(polygon, network_type, custom_filter)\u001b[0m\n\u001b[1;32m    359\u001b[0m overpass_settings \u001b[38;5;241m=\u001b[39m _make_overpass_settings()\n\u001b[1;32m    361\u001b[0m \u001b[38;5;66;03m# subdivide query polygon to get list of sub-divided polygon coord strings\u001b[39;00m\n\u001b[0;32m--> 362\u001b[0m polygon_coord_strs \u001b[38;5;241m=\u001b[39m \u001b[43m_make_overpass_polygon_coord_strs\u001b[49m\u001b[43m(\u001b[49m\u001b[43mpolygon\u001b[49m\u001b[43m)\u001b[49m\n\u001b[1;32m    363\u001b[0m utils\u001b[38;5;241m.\u001b[39mlog(\u001b[38;5;124mf\u001b[39m\u001b[38;5;124m\"\u001b[39m\u001b[38;5;124mRequesting data from API in \u001b[39m\u001b[38;5;132;01m{\u001b[39;00m\u001b[38;5;28mlen\u001b[39m(polygon_coord_strs)\u001b[38;5;132;01m}\u001b[39;00m\u001b[38;5;124m request(s)\u001b[39m\u001b[38;5;124m\"\u001b[39m)\n\u001b[1;32m    365\u001b[0m \u001b[38;5;66;03m# pass exterior coordinates of each polygon in list to API, one at a time\u001b[39;00m\n\u001b[1;32m    366\u001b[0m \u001b[38;5;66;03m# the '>' makes it recurse so we get ways and the ways' nodes.\u001b[39;00m\n",
      "File \u001b[0;32m~/Library/Python/3.9/lib/python/site-packages/osmnx/_overpass.py:253\u001b[0m, in \u001b[0;36m_make_overpass_polygon_coord_strs\u001b[0;34m(polygon)\u001b[0m\n\u001b[1;32m    234\u001b[0m \u001b[38;5;250m\u001b[39m\u001b[38;5;124;03m\"\"\"\u001b[39;00m\n\u001b[1;32m    235\u001b[0m \u001b[38;5;124;03mSubdivide query polygon and return list of coordinate strings.\u001b[39;00m\n\u001b[1;32m    236\u001b[0m \n\u001b[0;32m   (...)\u001b[0m\n\u001b[1;32m    249\u001b[0m \u001b[38;5;124;03m    list of strings of exterior coordinates of polygon(s)\u001b[39;00m\n\u001b[1;32m    250\u001b[0m \u001b[38;5;124;03m\"\"\"\u001b[39;00m\n\u001b[1;32m    251\u001b[0m \u001b[38;5;66;03m# first subdivide the polygon if its area exceeds max size\u001b[39;00m\n\u001b[1;32m    252\u001b[0m \u001b[38;5;66;03m# this results in a multipolygon of 1+ constituent polygons\u001b[39;00m\n\u001b[0;32m--> 253\u001b[0m poly_proj, crs_proj \u001b[38;5;241m=\u001b[39m \u001b[43mprojection\u001b[49m\u001b[38;5;241;43m.\u001b[39;49m\u001b[43mproject_geometry\u001b[49m\u001b[43m(\u001b[49m\u001b[43mpolygon\u001b[49m\u001b[43m)\u001b[49m\n\u001b[1;32m    254\u001b[0m multi_poly_proj \u001b[38;5;241m=\u001b[39m utils_geo\u001b[38;5;241m.\u001b[39m_consolidate_subdivide_geometry(poly_proj)\n\u001b[1;32m    255\u001b[0m multi_poly, _ \u001b[38;5;241m=\u001b[39m projection\u001b[38;5;241m.\u001b[39mproject_geometry(multi_poly_proj, crs\u001b[38;5;241m=\u001b[39mcrs_proj, to_latlong\u001b[38;5;241m=\u001b[39m\u001b[38;5;28;01mTrue\u001b[39;00m)\n",
      "File \u001b[0;32m~/Library/Python/3.9/lib/python/site-packages/osmnx/projection.py:60\u001b[0m, in \u001b[0;36mproject_geometry\u001b[0;34m(geometry, crs, to_crs, to_latlong)\u001b[0m\n\u001b[1;32m     57\u001b[0m     crs \u001b[38;5;241m=\u001b[39m settings\u001b[38;5;241m.\u001b[39mdefault_crs\n\u001b[1;32m     59\u001b[0m gdf \u001b[38;5;241m=\u001b[39m gpd\u001b[38;5;241m.\u001b[39mGeoDataFrame(geometry\u001b[38;5;241m=\u001b[39m[geometry], crs\u001b[38;5;241m=\u001b[39mcrs)\n\u001b[0;32m---> 60\u001b[0m gdf_proj \u001b[38;5;241m=\u001b[39m \u001b[43mproject_gdf\u001b[49m\u001b[43m(\u001b[49m\u001b[43mgdf\u001b[49m\u001b[43m,\u001b[49m\u001b[43m \u001b[49m\u001b[43mto_crs\u001b[49m\u001b[38;5;241;43m=\u001b[39;49m\u001b[43mto_crs\u001b[49m\u001b[43m,\u001b[49m\u001b[43m \u001b[49m\u001b[43mto_latlong\u001b[49m\u001b[38;5;241;43m=\u001b[39;49m\u001b[43mto_latlong\u001b[49m\u001b[43m)\u001b[49m\n\u001b[1;32m     61\u001b[0m geometry_proj \u001b[38;5;241m=\u001b[39m gdf_proj[\u001b[38;5;124m\"\u001b[39m\u001b[38;5;124mgeometry\u001b[39m\u001b[38;5;124m\"\u001b[39m]\u001b[38;5;241m.\u001b[39miloc[\u001b[38;5;241m0\u001b[39m]\n\u001b[1;32m     62\u001b[0m \u001b[38;5;28;01mreturn\u001b[39;00m geometry_proj, gdf_proj\u001b[38;5;241m.\u001b[39mcrs\n",
      "File \u001b[0;32m~/Library/Python/3.9/lib/python/site-packages/osmnx/projection.py:99\u001b[0m, in \u001b[0;36mproject_gdf\u001b[0;34m(gdf, to_crs, to_latlong)\u001b[0m\n\u001b[1;32m     97\u001b[0m \u001b[38;5;66;03m# else if to_crs is None, project gdf to an appropriate UTM zone\u001b[39;00m\n\u001b[1;32m     98\u001b[0m \u001b[38;5;28;01melif\u001b[39;00m to_crs \u001b[38;5;129;01mis\u001b[39;00m \u001b[38;5;28;01mNone\u001b[39;00m:\n\u001b[0;32m---> 99\u001b[0m     to_crs \u001b[38;5;241m=\u001b[39m \u001b[43mgdf\u001b[49m\u001b[38;5;241;43m.\u001b[39;49m\u001b[43mestimate_utm_crs\u001b[49m\u001b[43m(\u001b[49m\u001b[43m)\u001b[49m\n\u001b[1;32m    101\u001b[0m \u001b[38;5;66;03m# project the gdf\u001b[39;00m\n\u001b[1;32m    102\u001b[0m gdf_proj \u001b[38;5;241m=\u001b[39m gdf\u001b[38;5;241m.\u001b[39mto_crs(to_crs)\n",
      "File \u001b[0;32m~/Library/Python/3.9/lib/python/site-packages/geopandas/geodataframe.py:1451\u001b[0m, in \u001b[0;36mGeoDataFrame.estimate_utm_crs\u001b[0;34m(self, datum_name)\u001b[0m\n\u001b[1;32m   1415\u001b[0m \u001b[38;5;28;01mdef\u001b[39;00m \u001b[38;5;21mestimate_utm_crs\u001b[39m(\u001b[38;5;28mself\u001b[39m, datum_name\u001b[38;5;241m=\u001b[39m\u001b[38;5;124m\"\u001b[39m\u001b[38;5;124mWGS 84\u001b[39m\u001b[38;5;124m\"\u001b[39m):\n\u001b[1;32m   1416\u001b[0m \u001b[38;5;250m    \u001b[39m\u001b[38;5;124;03m\"\"\"Returns the estimated UTM CRS based on the bounds of the dataset.\u001b[39;00m\n\u001b[1;32m   1417\u001b[0m \n\u001b[1;32m   1418\u001b[0m \u001b[38;5;124;03m    .. versionadded:: 0.9\u001b[39;00m\n\u001b[0;32m   (...)\u001b[0m\n\u001b[1;32m   1449\u001b[0m \u001b[38;5;124;03m    - Prime Meridian: Greenwich\u001b[39;00m\n\u001b[1;32m   1450\u001b[0m \u001b[38;5;124;03m    \"\"\"\u001b[39;00m\n\u001b[0;32m-> 1451\u001b[0m     \u001b[38;5;28;01mreturn\u001b[39;00m \u001b[38;5;28;43mself\u001b[39;49m\u001b[38;5;241;43m.\u001b[39;49m\u001b[43mgeometry\u001b[49m\u001b[38;5;241;43m.\u001b[39;49m\u001b[43mestimate_utm_crs\u001b[49m\u001b[43m(\u001b[49m\u001b[43mdatum_name\u001b[49m\u001b[38;5;241;43m=\u001b[39;49m\u001b[43mdatum_name\u001b[49m\u001b[43m)\u001b[49m\n",
      "File \u001b[0;32m~/Library/Python/3.9/lib/python/site-packages/geopandas/geoseries.py:1214\u001b[0m, in \u001b[0;36mGeoSeries.estimate_utm_crs\u001b[0;34m(self, datum_name)\u001b[0m\n\u001b[1;32m   1178\u001b[0m \u001b[38;5;28;01mdef\u001b[39;00m \u001b[38;5;21mestimate_utm_crs\u001b[39m(\u001b[38;5;28mself\u001b[39m, datum_name: \u001b[38;5;28mstr\u001b[39m \u001b[38;5;241m=\u001b[39m \u001b[38;5;124m\"\u001b[39m\u001b[38;5;124mWGS 84\u001b[39m\u001b[38;5;124m\"\u001b[39m) \u001b[38;5;241m-\u001b[39m\u001b[38;5;241m>\u001b[39m CRS:\n\u001b[1;32m   1179\u001b[0m \u001b[38;5;250m    \u001b[39m\u001b[38;5;124;03m\"\"\"Returns the estimated UTM CRS based on the bounds of the dataset.\u001b[39;00m\n\u001b[1;32m   1180\u001b[0m \n\u001b[1;32m   1181\u001b[0m \u001b[38;5;124;03m    .. versionadded:: 0.9\u001b[39;00m\n\u001b[0;32m   (...)\u001b[0m\n\u001b[1;32m   1212\u001b[0m \u001b[38;5;124;03m    - Prime Meridian: Greenwich\u001b[39;00m\n\u001b[1;32m   1213\u001b[0m \u001b[38;5;124;03m    \"\"\"\u001b[39;00m\n\u001b[0;32m-> 1214\u001b[0m     \u001b[38;5;28;01mreturn\u001b[39;00m \u001b[38;5;28;43mself\u001b[39;49m\u001b[38;5;241;43m.\u001b[39;49m\u001b[43mvalues\u001b[49m\u001b[38;5;241;43m.\u001b[39;49m\u001b[43mestimate_utm_crs\u001b[49m\u001b[43m(\u001b[49m\u001b[43mdatum_name\u001b[49m\u001b[43m)\u001b[49m\n",
      "File \u001b[0;32m~/Library/Python/3.9/lib/python/site-packages/geopandas/array.py:940\u001b[0m, in \u001b[0;36mGeometryArray.estimate_utm_crs\u001b[0;34m(self, datum_name)\u001b[0m\n\u001b[1;32m    937\u001b[0m     \u001b[38;5;28;01melse\u001b[39;00m:\n\u001b[1;32m    938\u001b[0m         x_center \u001b[38;5;241m=\u001b[39m np\u001b[38;5;241m.\u001b[39mmean([minx, maxx])\n\u001b[0;32m--> 940\u001b[0m utm_crs_list \u001b[38;5;241m=\u001b[39m \u001b[43mquery_utm_crs_info\u001b[49m\u001b[43m(\u001b[49m\n\u001b[1;32m    941\u001b[0m \u001b[43m    \u001b[49m\u001b[43mdatum_name\u001b[49m\u001b[38;5;241;43m=\u001b[39;49m\u001b[43mdatum_name\u001b[49m\u001b[43m,\u001b[49m\n\u001b[1;32m    942\u001b[0m \u001b[43m    \u001b[49m\u001b[43marea_of_interest\u001b[49m\u001b[38;5;241;43m=\u001b[39;49m\u001b[43mAreaOfInterest\u001b[49m\u001b[43m(\u001b[49m\n\u001b[1;32m    943\u001b[0m \u001b[43m        \u001b[49m\u001b[43mwest_lon_degree\u001b[49m\u001b[38;5;241;43m=\u001b[39;49m\u001b[43mx_center\u001b[49m\u001b[43m,\u001b[49m\n\u001b[1;32m    944\u001b[0m \u001b[43m        \u001b[49m\u001b[43msouth_lat_degree\u001b[49m\u001b[38;5;241;43m=\u001b[39;49m\u001b[43my_center\u001b[49m\u001b[43m,\u001b[49m\n\u001b[1;32m    945\u001b[0m \u001b[43m        \u001b[49m\u001b[43meast_lon_degree\u001b[49m\u001b[38;5;241;43m=\u001b[39;49m\u001b[43mx_center\u001b[49m\u001b[43m,\u001b[49m\n\u001b[1;32m    946\u001b[0m \u001b[43m        \u001b[49m\u001b[43mnorth_lat_degree\u001b[49m\u001b[38;5;241;43m=\u001b[39;49m\u001b[43my_center\u001b[49m\u001b[43m,\u001b[49m\n\u001b[1;32m    947\u001b[0m \u001b[43m    \u001b[49m\u001b[43m)\u001b[49m\u001b[43m,\u001b[49m\n\u001b[1;32m    948\u001b[0m \u001b[43m\u001b[49m\u001b[43m)\u001b[49m\n\u001b[1;32m    949\u001b[0m \u001b[38;5;28;01mtry\u001b[39;00m:\n\u001b[1;32m    950\u001b[0m     \u001b[38;5;28;01mreturn\u001b[39;00m CRS\u001b[38;5;241m.\u001b[39mfrom_epsg(utm_crs_list[\u001b[38;5;241m0\u001b[39m]\u001b[38;5;241m.\u001b[39mcode)\n",
      "File \u001b[0;32m~/Library/Python/3.9/lib/python/site-packages/pyproj/database.pyx:314\u001b[0m, in \u001b[0;36mpyproj.database.query_utm_crs_info\u001b[0;34m()\u001b[0m\n",
      "File \u001b[0;32m~/Library/Python/3.9/lib/python/site-packages/pyproj/database.pyx:261\u001b[0m, in \u001b[0;36mpyproj.database.query_crs_info\u001b[0;34m()\u001b[0m\n",
      "File \u001b[0;32m<string>:1\u001b[0m, in \u001b[0;36m<lambda>\u001b[0;34m(_cls, west, south, east, north, name)\u001b[0m\n",
      "\u001b[0;31mKeyboardInterrupt\u001b[0m: "
     ]
    }
   ],
   "source": [
    "scored_locs = pd.DataFrame(columns = ['Address', 'Latitude', 'Longitude'] + score_types)\n",
    "exc_record = pd.DataFrame(columns=['Address', 'Exceptions'])\n",
    "\n",
    "for i, addr in enumerate(addresses):\n",
    "    \n",
    "    print(i)\n",
    "    print(addr)\n",
    "\n",
    "\n",
    "    if addr not in scored_locs['Address'].values:\n",
    "\n",
    "        try:\n",
    "            score, exc = get_info(addr)\n",
    "            if score is None:\n",
    "                exc_record.loc[len(exc_record)] = pd.Series({'Address': addr, 'Exceptions': exc})\n",
    "            scored_locs.loc[len(scored_locs)] = pd.concat([pd.Series({'Address': addr}), score])\n",
    "\n",
    "        except Exception as exc:\n",
    "            exc_record.loc[len(exc_record)] = pd.Series({'Address': addr, 'Exceptions': exc})\n",
    "\n",
    "\n",
    "        \n",
    "        \n",
    "       \n",
    "scored_locs.to_csv('scored_locs.csv', sep = ';', columns= ['Address', 'Latitude', 'Longitude'] + score_types, index = False)\n",
    "exc_record.to_csv('score_call_exceps.csv', sep = ';', columns= ['Address', 'Latitude', 'Longitude'] + score_types, index = False)\n"
   ]
  },
  {
   "cell_type": "code",
   "execution_count": null,
   "metadata": {},
   "outputs": [],
   "source": [
    "scored_locs = pd.DataFrame(columns = ['Address', 'Latitude', 'Longitude'] + score_types)\n",
    "exc_record = pd.DataFrame(columns=['Address', 'Exceptions'])\n",
    "\n",
    "for i, addr in enumerate(addresses):\n",
    "    \n",
    "    print(i)\n",
    "    \n",
    "\n",
    "\n",
    "    if addr not in scored_locs['Address'].values:\n",
    "\n",
    "        try:\n",
    "            score, exc = get_info(addr)\n",
    "            if score is None:\n",
    "                exc_record.loc[len(exc_record)] = pd.Series({'Address': addr, 'Exceptions': exc})\n",
    "            scored_locs.loc[len(scored_locs)] = pd.concat([pd.Series({'Address': addr}), score])\n",
    "\n",
    "        except Exception as exc:\n",
    "            exc_record.loc[len(exc_record)] = pd.Series({'Address': addr, 'Exceptions': exc})\n",
    "\n",
    "\n",
    "        \n",
    "        \n",
    "       \n",
    "scored_locs.to_csv('scored_locs.csv', sep = ';', columns= ['Address', 'Latitude', 'Longitude'] + score_types, index = False)\n",
    "exc_record.to_csv('score_call_exceps.csv', sep = ';', columns= ['Address', 'Latitude', 'Longitude'] + score_types, index = False)\n"
   ]
  },
  {
   "cell_type": "code",
   "execution_count": null,
   "metadata": {},
   "outputs": [],
   "source": [
    "scored_locs = pd.DataFrame(columns = ['Address', 'Latitude', 'Longitude'] + score_types)\n",
    "exc_record = pd.DataFrame(columns=['Address', 'Exceptions'])\n",
    "\n",
    "for i, addr in enumerate(addresses):\n",
    "    \n",
    "    print(i)\n",
    "    \n",
    "\n",
    "\n",
    "    if addr not in scored_locs['Address'].values:\n",
    "\n",
    "        try:\n",
    "            score, exc = get_info(addr)\n",
    "            if score is None:\n",
    "                exc_record.loc[len(exc_record)] = pd.Series({'Address': addr, 'Exceptions': exc})\n",
    "            scored_locs.loc[len(scored_locs)] = pd.concat([pd.Series({'Address': addr}), score])\n",
    "\n",
    "        except Exception as exc:\n",
    "            exc_record.loc[len(exc_record)] = pd.Series({'Address': addr, 'Exceptions': exc})\n",
    "\n",
    "\n",
    "        \n",
    "        \n",
    "       \n",
    "scored_locs.to_csv('scored_locs.csv', sep = ';', columns= ['Address', 'Latitude', 'Longitude'] + score_types, index = False)\n",
    "exc_record.to_csv('score_call_exceps.csv', sep = ';', columns= ['Address', 'Latitude', 'Longitude'] + score_types, index = False)\n"
   ]
  },
  {
   "cell_type": "code",
   "execution_count": null,
   "metadata": {},
   "outputs": [],
   "source": [
    "print(scored_locs)"
   ]
  },
  {
   "cell_type": "code",
   "execution_count": null,
   "metadata": {},
   "outputs": [],
   "source": [
    "get_info((39.7400159, -84.6364412))"
   ]
  }
 ],
 "metadata": {
  "kernelspec": {
   "display_name": "Python 3",
   "language": "python",
   "name": "python3"
  },
  "language_info": {
   "codemirror_mode": {
    "name": "ipython",
    "version": 3
   },
   "file_extension": ".py",
   "mimetype": "text/x-python",
   "name": "python",
   "nbconvert_exporter": "python",
   "pygments_lexer": "ipython3",
   "version": "3.9.6"
  }
 },
 "nbformat": 4,
 "nbformat_minor": 2
}
